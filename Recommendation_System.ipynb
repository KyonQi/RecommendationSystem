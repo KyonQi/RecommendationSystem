{
  "nbformat": 4,
  "nbformat_minor": 0,
  "metadata": {
    "colab": {
      "name": "Recommendation System.ipynb",
      "provenance": [],
      "collapsed_sections": [
        "jvmrPgXmum6F"
      ],
      "mount_file_id": "12ecZniJ3CGl0bep2LzZUtHmjdZei2vAD",
      "authorship_tag": "ABX9TyOpY2CPUEAMXkoiIJQ6k3kI",
      "include_colab_link": true
    },
    "kernelspec": {
      "name": "python3",
      "display_name": "Python 3"
    },
    "language_info": {
      "name": "python"
    },
    "gpuClass": "standard",
    "accelerator": "GPU"
  },
  "cells": [
    {
      "cell_type": "markdown",
      "metadata": {
        "id": "view-in-github",
        "colab_type": "text"
      },
      "source": [
        "<a href=\"https://colab.research.google.com/github/KyonQi/RecommendationSystem/blob/main/Recommendation_System.ipynb\" target=\"_parent\"><img src=\"https://colab.research.google.com/assets/colab-badge.svg\" alt=\"Open In Colab\"/></a>"
      ]
    },
    {
      "cell_type": "markdown",
      "source": [
        "# Having a Try!"
      ],
      "metadata": {
        "id": "0NufZulTPwgD"
      }
    },
    {
      "cell_type": "code",
      "source": [
        "!pip install annoy"
      ],
      "metadata": {
        "colab": {
          "base_uri": "https://localhost:8080/"
        },
        "id": "cJX5G4gtg3QI",
        "outputId": "3dac9830-94d1-4d8a-9f5b-831ebed9d269"
      },
      "execution_count": null,
      "outputs": [
        {
          "output_type": "stream",
          "name": "stdout",
          "text": [
            "Looking in indexes: https://pypi.org/simple, https://us-python.pkg.dev/colab-wheels/public/simple/\n",
            "Requirement already satisfied: annoy in /usr/local/lib/python3.7/dist-packages (1.17.0)\n"
          ]
        }
      ]
    },
    {
      "cell_type": "code",
      "execution_count": null,
      "metadata": {
        "id": "n04-uJJSPdTh"
      },
      "outputs": [],
      "source": [
        "import annoy\n",
        "import numpy as np\n",
        "import pandas as pd\n",
        "import torch\n",
        "import os"
      ]
    },
    {
      "cell_type": "code",
      "source": [
        "!git clone https://github.com/datawhalechina/torch-rechub.git"
      ],
      "metadata": {
        "colab": {
          "base_uri": "https://localhost:8080/"
        },
        "id": "j1psfzjRUD9Y",
        "outputId": "21ab75a1-4e61-4970-ff34-13ef906e0c87"
      },
      "execution_count": null,
      "outputs": [
        {
          "output_type": "stream",
          "name": "stdout",
          "text": [
            "Cloning into 'torch-rechub'...\n",
            "remote: Enumerating objects: 511, done.\u001b[K\n",
            "remote: Counting objects: 100% (511/511), done.\u001b[K\n",
            "remote: Compressing objects: 100% (216/216), done.\u001b[K\n",
            "remote: Total 511 (delta 295), reused 486 (delta 293), pack-reused 0\u001b[K\n",
            "Receiving objects: 100% (511/511), 221.27 KiB | 2.60 MiB/s, done.\n",
            "Resolving deltas: 100% (295/295), done.\n"
          ]
        }
      ]
    },
    {
      "cell_type": "code",
      "source": [
        "%cd torch-rechub\n",
        "!python setup.py install"
      ],
      "metadata": {
        "id": "jJffSCUWDiwC"
      },
      "execution_count": null,
      "outputs": []
    },
    {
      "cell_type": "markdown",
      "source": [
        "`pd.set_option` is used for chaging the formation of displaying\n",
        "\n",
        "`torch.manual_seed` is used for fixing the random seed, more convenient to repeat the outcome"
      ],
      "metadata": {
        "id": "XMEuZr35Qn0L"
      }
    },
    {
      "cell_type": "code",
      "source": [
        "original_dir = '/content'\n",
        "os.chdir(original_dir)"
      ],
      "metadata": {
        "id": "oCjNrnJ5hLbL"
      },
      "execution_count": null,
      "outputs": []
    },
    {
      "cell_type": "code",
      "source": [
        "pd.set_option('display.max_rows', 500)\n",
        "pd.set_option('display.max_columns', 500)\n",
        "pd.set_option('display.width', 1000)\n",
        "torch.manual_seed(2022)"
      ],
      "metadata": {
        "colab": {
          "base_uri": "https://localhost:8080/"
        },
        "id": "0k8dafA0QP2W",
        "outputId": "9ca92f4d-9ba0-4d42-df5e-421672912e13"
      },
      "execution_count": null,
      "outputs": [
        {
          "output_type": "execute_result",
          "data": {
            "text/plain": [
              "<torch._C.Generator at 0x7f86ae9598d0>"
            ]
          },
          "metadata": {},
          "execution_count": 7
        }
      ]
    },
    {
      "cell_type": "markdown",
      "source": [
        "The example data csv is in ../content/torch-rechub/examples/matching/data/ml-1m/ml-1m_sample.csv\n",
        "\n",
        "It is actually the top 100 samples picked from the original dataframe\n",
        "for the need of testing"
      ],
      "metadata": {
        "id": "A8NnSsayWIK3"
      }
    },
    {
      "cell_type": "code",
      "source": [
        "#it's for testing\n",
        "'''\n",
        "data_path = '/content/torch-rechub/examples/matching/data/ml-1m/ml-1m_sample.csv'\n",
        "data = pd.read_csv(data_path)\n",
        "print(data.head()) # read the first 5 rows of data csv\n",
        "'''\n"
      ],
      "metadata": {
        "colab": {
          "base_uri": "https://localhost:8080/",
          "height": 35
        },
        "id": "4RjPDXTrWG9C",
        "outputId": "9df71320-651f-4ef3-f4f8-3d9bf6e41eec"
      },
      "execution_count": null,
      "outputs": [
        {
          "output_type": "execute_result",
          "data": {
            "text/plain": [
              "\"\\ndata_path = '/content/torch-rechub/examples/matching/data/ml-1m/ml-1m_sample.csv'\\ndata = pd.read_csv(data_path)\\nprint(data.head()) # read the first 5 rows of data csv\\n\""
            ],
            "application/vnd.google.colaboratory.intrinsic+json": {
              "type": "string"
            }
          },
          "metadata": {},
          "execution_count": 7
        }
      ]
    },
    {
      "cell_type": "markdown",
      "source": [
        "### The whole data ml-1m\n"
      ],
      "metadata": {
        "id": "NjqPwVGthwWZ"
      }
    },
    {
      "cell_type": "code",
      "source": [
        "whole_data_path_indrive = '../content/drive/MyDrive/ml-1m'\n",
        "whole_data_path_local = '../content/ml-1m/original'\n",
        "if not os.path.exists(whole_data_path_local):\n",
        "  os.makedirs(whole_data_path_local)"
      ],
      "metadata": {
        "id": "PHJAOL2ihyyK"
      },
      "execution_count": null,
      "outputs": []
    },
    {
      "cell_type": "code",
      "source": [
        "!cp  -r ../content/drive/MyDrive/ml-1m ../content/ml-1m/original"
      ],
      "metadata": {
        "id": "oRZwGipCiERC"
      },
      "execution_count": null,
      "outputs": []
    },
    {
      "cell_type": "code",
      "source": [
        "def GenerateWholeCSV(original_data_dir):\n",
        "  data_path = original_data_dir\n",
        "\n",
        "  unames = ['user_id','gender','age','occupation','zip']\n",
        "  user = pd.read_csv(data_path+'/ml-1m/users.dat',sep='::',header=None,names=unames, engine='python',encoding=\"ISO-8859-1\")\n",
        "  rnames = ['user_id','movie_id','rating','timestamp']\n",
        "  ratings = pd.read_csv(data_path+'/ml-1m/ratings.dat',sep='::',header=None,names=rnames, engine='python',encoding=\"ISO-8859-1\")\n",
        "  mnames = ['movie_id','title','genres']\n",
        "  movies = pd.read_csv(data_path+'/ml-1m/movies.dat',sep='::',header=None,names=mnames, engine='python',encoding=\"ISO-8859-1\")\n",
        "\n",
        "  data = pd.merge(pd.merge(ratings,movies),user)\n",
        "  data.to_csv(\"../content/ml-1m/ml-1m.csv\", index=False)"
      ],
      "metadata": {
        "id": "UM3fBOcUjap5"
      },
      "execution_count": null,
      "outputs": []
    },
    {
      "cell_type": "code",
      "source": [
        "GenerateWholeCSV(whole_data_path_local)"
      ],
      "metadata": {
        "id": "HqzXzI_-kP82"
      },
      "execution_count": null,
      "outputs": []
    },
    {
      "cell_type": "markdown",
      "source": [
        "## data preprocessing"
      ],
      "metadata": {
        "id": "C6Urq7_55rEv"
      }
    },
    {
      "cell_type": "code",
      "source": [
        "data_path = '/content/data/ml-1m.csv'\n",
        "data = pd.read_csv(data_path)\n",
        "print(data.head())"
      ],
      "metadata": {
        "colab": {
          "base_uri": "https://localhost:8080/"
        },
        "id": "8hUY5xp5lEN1",
        "outputId": "01544722-fed4-415b-faaa-11713f5396bf"
      },
      "execution_count": null,
      "outputs": [
        {
          "output_type": "stream",
          "name": "stdout",
          "text": [
            "   user_id  movie_id  rating  timestamp                                   title                        genres gender  age  occupation    zip\n",
            "0        1      1193       5  978300760  One Flew Over the Cuckoo's Nest (1975)                         Drama      F    1          10  48067\n",
            "1        1       661       3  978302109        James and the Giant Peach (1996)  Animation|Children's|Musical      F    1          10  48067\n",
            "2        1       914       3  978301968                     My Fair Lady (1964)               Musical|Romance      F    1          10  48067\n",
            "3        1      3408       4  978300275                  Erin Brockovich (2000)                         Drama      F    1          10  48067\n",
            "4        1      2355       5  978824291                    Bug's Life, A (1998)   Animation|Children's|Comedy      F    1          10  48067\n"
          ]
        }
      ]
    },
    {
      "cell_type": "code",
      "source": [
        "from sklearn.preprocessing import LabelEncoder"
      ],
      "metadata": {
        "id": "2ZGLMUFK8VKf"
      },
      "execution_count": null,
      "outputs": []
    },
    {
      "cell_type": "markdown",
      "source": [
        "We'll preprocess the data so as to fit it in our model.\n",
        "\n",
        "The main part is the preprocessing of features\n",
        "\n",
        "We'll use the LabelEncoder to get a discrete number for features"
      ],
      "metadata": {
        "id": "n0LHM2xE5zaZ"
      }
    },
    {
      "cell_type": "code",
      "source": [
        "#using the first genre as a whole representation\n",
        "data['genre_id'] = data['genres'].apply(lambda x: x.split('|')[0]) \n",
        "\n",
        "#print(data.head())"
      ],
      "metadata": {
        "id": "9Hu1Q63N5wIT"
      },
      "execution_count": null,
      "outputs": []
    },
    {
      "cell_type": "code",
      "source": [
        "user_col = 'user_id'\n",
        "item_col = 'movie_id'\n",
        "#using 'genre_id' instead of 'genres'\n",
        "sparse_features = ['user_id', 'movie_id', 'gender', 'age', 'occupation', 'zip', 'genre_id']\n",
        "dense_features = []"
      ],
      "metadata": {
        "id": "l1XCVcFs690w"
      },
      "execution_count": null,
      "outputs": []
    },
    {
      "cell_type": "code",
      "source": [
        "save_dir = '../content/sample/data/movielen_1M/saved'\n",
        "if not os.path.exists(save_dir):\n",
        "  os.makedirs(save_dir)"
      ],
      "metadata": {
        "id": "4HG0b85t7jxe"
      },
      "execution_count": null,
      "outputs": []
    },
    {
      "cell_type": "markdown",
      "source": [
        "Then we'll use LabelEncoder to get a discrete number for the sparse features\n",
        "\n",
        "You could have some knowledge about `fit_transform` now"
      ],
      "metadata": {
        "id": "lR_SH49z8JXq"
      }
    },
    {
      "cell_type": "code",
      "source": [
        "print(data[sparse_features].head())\n",
        "#for comparison"
      ],
      "metadata": {
        "colab": {
          "base_uri": "https://localhost:8080/"
        },
        "id": "iBI7LEVj8Q4T",
        "outputId": "6d6cd752-35f8-430e-9ed4-48a8e95fdfbf"
      },
      "execution_count": null,
      "outputs": [
        {
          "output_type": "stream",
          "name": "stdout",
          "text": [
            "   user_id  movie_id gender  age  occupation    zip   genre_id\n",
            "0        1      1193      F    1          10  48067      Drama\n",
            "1        1       661      F    1          10  48067  Animation\n",
            "2        1       914      F    1          10  48067    Musical\n",
            "3        1      3408      F    1          10  48067      Drama\n",
            "4        1      2355      F    1          10  48067  Animation\n"
          ]
        }
      ]
    },
    {
      "cell_type": "code",
      "source": [
        "feature_max_idx = {}\n",
        "for feature in sparse_features:\n",
        "  lbe = LabelEncoder()\n",
        "  #generate the number from 1 but not 0\n",
        "  data[feature] = lbe.fit_transform(data[feature]) + 1\n",
        "\n",
        "  feature_max_idx[feature] = data[feature].max() + 1\n",
        "  #print(data[feature].max())\n",
        "\n",
        "  if feature == user_col:\n",
        "    user_dict = {idx + 1: raw_id for idx, raw_id in enumerate(lbe.classes_)}\n",
        "  if feature == item_col:\n",
        "    item_dict = {idx + 1: raw_id for idx, raw_id in enumerate(lbe.classes_)}\n",
        "\n",
        "np.save(save_dir + 'raw_id_dicts.npy', (user_dict, item_dict))"
      ],
      "metadata": {
        "id": "4TGcyaNo9H8O"
      },
      "execution_count": null,
      "outputs": []
    },
    {
      "cell_type": "code",
      "source": [
        "print(data[sparse_features].head())"
      ],
      "metadata": {
        "colab": {
          "base_uri": "https://localhost:8080/"
        },
        "id": "lzM5g2CD-CEC",
        "outputId": "bc6d7c2e-ef76-4edd-a569-d1dc11b10565"
      },
      "execution_count": null,
      "outputs": [
        {
          "output_type": "stream",
          "name": "stdout",
          "text": [
            "   user_id  movie_id  gender  age  occupation   zip  genre_id\n",
            "0        1      1105       1    1          11  1589         8\n",
            "1        1       640       1    1          11  1589         3\n",
            "2        1       854       1    1          11  1589        12\n",
            "3        1      3178       1    1          11  1589         8\n",
            "4        1      2163       1    1          11  1589         3\n"
          ]
        }
      ]
    },
    {
      "cell_type": "markdown",
      "source": [
        "Then we'll define the data we decide to throw into\n",
        "the MLP\n",
        "\n",
        "Typically, we'll divide it into two sides: one is\n",
        "user_cols, and the other one is item_cols"
      ],
      "metadata": {
        "id": "pxDQoFVlAkM7"
      }
    },
    {
      "cell_type": "code",
      "source": [
        "user_cols = ['user_id', 'gender', 'age', 'occupation', 'zip']\n",
        "item_cols = ['movie_id', 'genre_id']"
      ],
      "metadata": {
        "id": "pb3zYqeBAJbQ"
      },
      "execution_count": null,
      "outputs": []
    },
    {
      "cell_type": "code",
      "source": [
        "print(data[user_cols].head())\n",
        "print(data[item_cols].head())"
      ],
      "metadata": {
        "colab": {
          "base_uri": "https://localhost:8080/"
        },
        "id": "3URXW1o-CKTc",
        "outputId": "49425304-0656-41e0-aa35-2e26576937a0"
      },
      "execution_count": null,
      "outputs": [
        {
          "output_type": "stream",
          "name": "stdout",
          "text": [
            "   user_id  gender  age  occupation   zip\n",
            "0        1       1    1          11  1589\n",
            "1        1       1    1          11  1589\n",
            "2        1       1    1          11  1589\n",
            "3        1       1    1          11  1589\n",
            "4        1       1    1          11  1589\n",
            "   movie_id  genre_id\n",
            "0      1105         8\n",
            "1       640         3\n",
            "2       854        12\n",
            "3      3178         8\n",
            "4      2163         3\n"
          ]
        }
      ]
    },
    {
      "cell_type": "markdown",
      "source": [
        "Here it is necessary to get some knowledge about\n",
        "`drop_duplicates` in Pandas\n",
        "\n",
        "Remember what we want to do right now is to\n",
        "get a profile of user or item"
      ],
      "metadata": {
        "id": "typmT6l2CoOv"
      }
    },
    {
      "cell_type": "code",
      "source": [
        "user_profile = data[user_cols].drop_duplicates('user_id')\n",
        "item_profile = data[item_cols].drop_duplicates('movie_id')\n",
        "print(user_profile)\n",
        "print(item_profile.head())"
      ],
      "metadata": {
        "colab": {
          "base_uri": "https://localhost:8080/"
        },
        "id": "R0YILdLQBNm2",
        "outputId": "42e08854-ce4d-413d-ff62-e275b69ff0ef"
      },
      "execution_count": null,
      "outputs": [
        {
          "output_type": "stream",
          "name": "stdout",
          "text": [
            "         user_id  gender  age  occupation   zip\n",
            "0              1       1    1          11  1589\n",
            "53             2       2    7          17  2249\n",
            "182           12       2    3          13  1166\n",
            "205           15       2    3           8   905\n",
            "406           17       2    6           2  3188\n",
            "...          ...     ...  ...         ...   ...\n",
            "1000035     3537       2    1          11  3314\n",
            "1000092     2908       2    2           3  2320\n",
            "1000113     2982       2    3           5  1825\n",
            "1000135     3893       2    3           7  2508\n",
            "1000185     4211       2    5           6  2444\n",
            "\n",
            "[6040 rows x 5 columns]\n",
            "   movie_id  genre_id\n",
            "0      1105         8\n",
            "1       640         3\n",
            "2       854        12\n",
            "3      3178         8\n",
            "4      2163         3\n"
          ]
        }
      ]
    },
    {
      "cell_type": "markdown",
      "source": [
        "Here, we'll preprocess the data regarding of\n",
        "the watching histories, which are represented by\n",
        "'timestamp'\n",
        "\n",
        "\n",
        "\n",
        "```\n",
        "def generate_seq_feature_match(data, user_col, item_col,\n",
        "time_col, item_attribute_cols=None, sample_method=0,\n",
        "mode=0, neg_ratio=0, min_item=0):\n",
        "\"\"\"\n",
        "generate sequence feature and negative sample for match.\n",
        "Args:\n",
        " data (pd.DataFrame): the raw data.\n",
        " user_col (str): the col name of user_id \n",
        " item_col (str): the col name of item_id \n",
        " time_col (str): the col name of timestamp\n",
        " item_attribute_cols (list[str], optional): the other attribute cols of item which you want to generate sequence feature. Defaults to `[]`.\n",
        " sample_method (int, optional): the negative sample method `{\n",
        " 0: \"random sampling\", \n",
        " 1: \"popularity sampling method used in word2vec\", \n",
        " 2: \"popularity sampling method by `log(count+1)+1e-6`\",\n",
        " 3: \"tencent RALM sampling\"}`. \n",
        " Defaults to 0.\n",
        " mode (int, optional): the training mode, `{0:point-wise, 1:pair-wise, 2:list-wise}`. Defaults to 0.\n",
        " neg_ratio (int, optional): negative sample ratio, >= 1. Defaults to 0.\n",
        " min_item (int, optional): the min item each user must have. Defaults to 0.\n",
        " Returns:\n",
        "  pd.DataFrame: split train and test data with sequence features.\n",
        "\"\"\"\n",
        "```\n",
        "\n"
      ],
      "metadata": {
        "id": "M0QDrUNrKI0H"
      }
    },
    {
      "cell_type": "code",
      "source": [
        "import sys\n",
        "sys.path.append('/content/torch-rechub/')\n",
        "sys.path.append('/content/torch-rechub/examples/')\n",
        "sys.path.append(\"../..\")"
      ],
      "metadata": {
        "id": "tAqb88ggRFcH"
      },
      "execution_count": null,
      "outputs": []
    },
    {
      "cell_type": "code",
      "source": [
        "import sys\n",
        "sys.path.append('/content/torch-rechub/')\n",
        "from torch_rechub.utils.match import generate_seq_feature_match, gen_model_input"
      ],
      "metadata": {
        "id": "Mv10wg6XN0zr"
      },
      "execution_count": null,
      "outputs": []
    },
    {
      "cell_type": "code",
      "source": [
        "train, test = generate_seq_feature_match(data, user_col, item_col, time_col='timestamp',\n",
        "                      item_attribute_cols=[], sample_method=1, mode=0, \n",
        "                      neg_ratio=3, min_item=0)\n",
        "print(train.head())\n",
        "print(test.head())\n",
        "x_train = gen_model_input(train, user_profile, user_col, item_profile, item_col, seq_max_len=50)\n",
        "y_train = x_train['label']\n",
        "x_test = gen_model_input(test, user_profile, user_col, item_profile, item_col, seq_max_len=50)\n",
        "y_test = x_test['label']\n",
        "#print(x_train.items()) see the dataframe of x_train by this; it's actually a dict"
      ],
      "metadata": {
        "colab": {
          "base_uri": "https://localhost:8080/"
        },
        "id": "oC2kFdG3OZDt",
        "outputId": "b6a39982-56b2-4bc7-f19c-aaa079f1e526"
      },
      "execution_count": null,
      "outputs": [
        {
          "output_type": "stream",
          "name": "stdout",
          "text": [
            "preprocess data\n"
          ]
        },
        {
          "output_type": "stream",
          "name": "stderr",
          "text": [
            "generate sequence features: 100%|██████████| 6040/6040 [00:13<00:00, 455.00it/s]\n"
          ]
        },
        {
          "output_type": "stream",
          "name": "stdout",
          "text": [
            "n_train: 3952516, n_test: 6040\n",
            "0 cold start user droped \n",
            "   user_id  movie_id                                      hist_movie_id  histlen_movie_id  label\n",
            "0     1727      1280  [1140, 2856, 1788, 1179, 348, 1125, 1051, 2502...               451      0\n",
            "1     3992      1274  [1782, 1108, 728, 153, 2558, 3399, 3342, 3504,...               142      0\n",
            "2     2611      1902  [2634, 506, 1531, 580, 1486, 1382, 437, 465, 1...               395      0\n",
            "3      929      2014  [347, 1282, 1105, 2312, 368, 1844, 2191, 1879,...               219      0\n",
            "4     4376       597  [580, 2495, 467, 1429, 2886, 6, 1194, 584, 248...                31      0\n"
          ]
        }
      ]
    },
    {
      "cell_type": "code",
      "source": [
        "from torch_rechub.basic.features import SparseFeature, SequenceFeature\n",
        "user_features = [SparseFeature(feature_name, vocab_size=feature_max_idx[feature_name], embed_dim=16) \n",
        "          for feature_name in user_cols]\n",
        "\n",
        "user_features += [\n",
        "    SequenceFeature('hist_movie_id', vocab_size=feature_max_idx['movie_id'],\n",
        "            embed_dim=16, pooling='mean', shared_with='movie_id')\n",
        "]\n",
        "\n",
        "item_features = [\n",
        "    SparseFeature(feature_name, vocab_size=feature_max_idx[feature_name], embed_dim=16)\n",
        "    for feature_name in item_cols\n",
        "]\n",
        "\n",
        "print(user_features)\n",
        "print(item_features)"
      ],
      "metadata": {
        "colab": {
          "base_uri": "https://localhost:8080/"
        },
        "id": "Tko9lPCEltij",
        "outputId": "dff817c1-54bd-4e63-872e-bfef27a89cf3"
      },
      "execution_count": null,
      "outputs": [
        {
          "output_type": "stream",
          "name": "stdout",
          "text": [
            "[<SparseFeature user_id with Embedding shape (6041, 16)>, <SparseFeature gender with Embedding shape (3, 16)>, <SparseFeature age with Embedding shape (8, 16)>, <SparseFeature occupation with Embedding shape (22, 16)>, <SparseFeature zip with Embedding shape (3440, 16)>, <SequenceFeature hist_movie_id with Embedding shape (3707, 16)>]\n",
            "[<SparseFeature movie_id with Embedding shape (3707, 16)>, <SparseFeature genre_id with Embedding shape (19, 16)>]\n"
          ]
        }
      ]
    },
    {
      "cell_type": "code",
      "source": [
        "from torch_rechub.utils.data import df_to_dict\n",
        "all_item = df_to_dict(item_profile)\n",
        "test_user = x_test"
      ],
      "metadata": {
        "id": "SkVT0FwMohaO"
      },
      "execution_count": null,
      "outputs": []
    },
    {
      "cell_type": "markdown",
      "source": [
        "## model training"
      ],
      "metadata": {
        "id": "_E9hq4HISmu8"
      }
    },
    {
      "cell_type": "markdown",
      "source": [
        "now we'll get a model and use the `x_train`\n",
        "and `y_train` dicts to generate the data"
      ],
      "metadata": {
        "id": "rtbX07RFSpro"
      }
    },
    {
      "cell_type": "markdown",
      "source": [
        "Now we'll use DSSM model\n",
        "\n",
        "MatchTrainer is a recalling container, which\n",
        "is pre-defined in the library"
      ],
      "metadata": {
        "id": "WlIQWToNTEYH"
      }
    },
    {
      "cell_type": "code",
      "source": [
        "from torch_rechub.models.matching import DSSM\n",
        "from torch_rechub.trainers import MatchTrainer\n",
        "from torch_rechub.utils.data import MatchDataGenerator"
      ],
      "metadata": {
        "id": "rw76Gr4aTEPT"
      },
      "execution_count": null,
      "outputs": []
    },
    {
      "cell_type": "code",
      "source": [
        "DataGenerator = MatchDataGenerator(x=x_train, y=y_train)\n",
        "train_dataloader, test_dataloader, item_dataloader = DataGenerator.generate_dataloader(test_user, \n",
        "                                            all_item, batch_size=256)\n",
        "model = DSSM(user_features, item_features, temperature=0.02, \n",
        "             user_params={'dims':[256, 128, 64],\n",
        "                    'activation':'prelu'},\n",
        "             item_params={'dims':[256, 128, 64],\n",
        "                    'activation':'prelu'})\n",
        "trainer = MatchTrainer(model, mode=0,\n",
        "             optimizer_params={'lr':1e-4, 'weight_decay':1e-6},\n",
        "             n_epoch=1, device='cuda:0', model_path=save_dir)\n",
        "\n",
        "trainer.fit(train_dataloader)\n"
      ],
      "metadata": {
        "colab": {
          "base_uri": "https://localhost:8080/"
        },
        "id": "hU5tVmChSleY",
        "outputId": "06001be2-2453-48ce-b154-0a2b57b5fda5"
      },
      "execution_count": null,
      "outputs": [
        {
          "output_type": "stream",
          "name": "stderr",
          "text": [
            "/usr/local/lib/python3.7/dist-packages/torch/utils/data/dataloader.py:560: UserWarning: This DataLoader will create 8 worker processes in total. Our suggested max number of worker in current system is 2, which is smaller than what this DataLoader is going to create. Please be aware that excessive worker creation might get DataLoader running slow or even freeze, lower the worker number to avoid potential slowness/freeze if necessary.\n",
            "  cpuset_checked))\n"
          ]
        },
        {
          "output_type": "stream",
          "name": "stdout",
          "text": [
            "epoch: 0\n"
          ]
        },
        {
          "output_type": "stream",
          "name": "stderr",
          "text": [
            "train: 100%|██████████| 15440/15440 [04:44<00:00, 54.35it/s, loss=0.559]\n"
          ]
        }
      ]
    },
    {
      "cell_type": "markdown",
      "source": [
        "## Recalling"
      ],
      "metadata": {
        "id": "b0in90AVbDES"
      }
    },
    {
      "cell_type": "markdown",
      "source": [
        "Now, we'll get the recalling and evaluating the\n",
        "model"
      ],
      "metadata": {
        "id": "YFyacbEha4iY"
      }
    },
    {
      "cell_type": "markdown",
      "source": [
        "\n",
        "\n",
        "*   using `trainer` to get the users' embeddings and items' embeddings\n",
        "*   using ANN to all users so as to recall K items\n",
        "*   evaluating Top K\n",
        "\n",
        "\n"
      ],
      "metadata": {
        "id": "W9YF1_fQbLe7"
      }
    },
    {
      "cell_type": "code",
      "source": [
        "import collections\n",
        "from torch_rechub.utils.match import Annoy\n",
        "from torch_rechub.basic.metric import topk_metrics"
      ],
      "metadata": {
        "id": "byUZnHP4biUK"
      },
      "execution_count": null,
      "outputs": []
    },
    {
      "cell_type": "code",
      "source": [
        "def match_evaluation(user_embedding, item_embedding, test_user, all_item, user_col='user_id', item_col='movie_id',\n",
        "                     raw_id_maps=\"../content/sample/data/movielen_1M/savedraw_id_dicts.npy\", topk=10):\n",
        "    print(\"evaluate embedding matching on test data\")\n",
        "    annoy = Annoy(n_trees=10)\n",
        "    annoy.fit(item_embedding)\n",
        "\n",
        "    #for each user of test dataset, get ann search topk result\n",
        "    print(\"matching for topk\")\n",
        "    user_map, item_map = np.load(raw_id_maps, allow_pickle=True)\n",
        "    match_res = collections.defaultdict(dict)  # user id -> predicted item ids\n",
        "    for user_id, user_emb in zip(test_user[user_col], user_embedding):\n",
        "        items_idx, items_scores = annoy.query(v=user_emb, n=topk)  #the index of topk match items\n",
        "        match_res[user_map[user_id]] = np.vectorize(item_map.get)(all_item[item_col][items_idx])\n",
        "\n",
        "    #get ground truth\n",
        "    print(\"generate ground truth\")\n",
        "\n",
        "    data = pd.DataFrame({user_col: test_user[user_col], item_col: test_user[item_col]})\n",
        "    data[user_col] = data[user_col].map(user_map)\n",
        "    data[item_col] = data[item_col].map(item_map)\n",
        "    user_pos_item = data.groupby(user_col).agg(list).reset_index()\n",
        "    ground_truth = dict(zip(user_pos_item[user_col], user_pos_item[item_col]))  # user id -> ground truth\n",
        "\n",
        "    print(\"compute topk metrics\")\n",
        "    out = topk_metrics(y_true=ground_truth, y_pred=match_res, topKs=[topk])\n",
        "    return out"
      ],
      "metadata": {
        "id": "MfFgmA15s9YW"
      },
      "execution_count": null,
      "outputs": []
    },
    {
      "cell_type": "code",
      "source": [
        "user_embedding = trainer.inference_embedding(model=model, mode=\"user\", data_loader=test_dataloader, model_path=save_dir)\n",
        "item_embedding = trainer.inference_embedding(model=model, mode=\"item\", data_loader=item_dataloader, model_path=save_dir)\n",
        "match_evaluation(user_embedding, item_embedding, test_user, all_item, topk=10, raw_id_maps='../content/sample/data/movielen_1M/savedraw_id_dicts.npy')"
      ],
      "metadata": {
        "colab": {
          "base_uri": "https://localhost:8080/"
        },
        "id": "FzPksO6KfsLq",
        "outputId": "3b7002e2-8c6b-47b2-a1ae-ace33fe6a3dc"
      },
      "execution_count": null,
      "outputs": [
        {
          "output_type": "stream",
          "name": "stderr",
          "text": [
            "\ruser inference:   0%|          | 0/24 [00:00<?, ?it/s]/usr/local/lib/python3.7/dist-packages/torch/utils/data/dataloader.py:560: UserWarning: This DataLoader will create 8 worker processes in total. Our suggested max number of worker in current system is 2, which is smaller than what this DataLoader is going to create. Please be aware that excessive worker creation might get DataLoader running slow or even freeze, lower the worker number to avoid potential slowness/freeze if necessary.\n",
            "  cpuset_checked))\n",
            "user inference: 100%|██████████| 24/24 [00:01<00:00, 21.67it/s]\n",
            "item inference: 100%|██████████| 15/15 [00:00<00:00, 16.24it/s]\n"
          ]
        },
        {
          "output_type": "stream",
          "name": "stdout",
          "text": [
            "evaluate embedding matching on test data\n",
            "matching for topk\n",
            "generate ground truth\n",
            "compute topk metrics\n"
          ]
        },
        {
          "output_type": "execute_result",
          "data": {
            "text/plain": [
              "defaultdict(list,\n",
              "            {'Hit': ['Hit@10: 0.0215'],\n",
              "             'MRR': ['MRR@10: 0.0065'],\n",
              "             'NDCG': ['NDCG@10: 0.0022'],\n",
              "             'Precision': ['Precision@10: 0.0022'],\n",
              "             'Recall': ['Recall@10: 0.0215']})"
            ]
          },
          "metadata": {},
          "execution_count": 33
        }
      ]
    },
    {
      "cell_type": "markdown",
      "source": [
        "# YouTube DNN!"
      ],
      "metadata": {
        "id": "EDwxHisp2_L5"
      }
    },
    {
      "cell_type": "markdown",
      "source": [
        "It's totally the same with having a try~\n",
        "\n",
        "**Let's try it again**"
      ],
      "metadata": {
        "id": "KrodPd4V3C2W"
      }
    },
    {
      "cell_type": "markdown",
      "source": [
        "## Prerequisite Libraries"
      ],
      "metadata": {
        "id": "I8GEG9ifHEed"
      }
    },
    {
      "cell_type": "code",
      "source": [
        "!pip install annoy"
      ],
      "metadata": {
        "colab": {
          "base_uri": "https://localhost:8080/"
        },
        "id": "95A-Rvpwt_LG",
        "outputId": "849baf23-8129-4b72-daeb-0b3dc5faa6a1"
      },
      "execution_count": null,
      "outputs": [
        {
          "output_type": "stream",
          "name": "stdout",
          "text": [
            "Looking in indexes: https://pypi.org/simple, https://us-python.pkg.dev/colab-wheels/public/simple/\n",
            "Requirement already satisfied: annoy in /usr/local/lib/python3.7/dist-packages (1.17.1)\n"
          ]
        }
      ]
    },
    {
      "cell_type": "code",
      "source": [
        "import annoy\n",
        "import numpy as np\n",
        "import pandas as pd\n",
        "import torch\n",
        "import torch.nn as nn\n",
        "import torch.nn.functional as F\n",
        "import os\n",
        "import sys"
      ],
      "metadata": {
        "id": "35B2kwz4uAt7"
      },
      "execution_count": null,
      "outputs": []
    },
    {
      "cell_type": "code",
      "source": [
        "!git clone https://github.com/datawhalechina/torch-rechub.git"
      ],
      "metadata": {
        "colab": {
          "base_uri": "https://localhost:8080/"
        },
        "id": "CU0wYjj3uCjW",
        "outputId": "bdcfe7ad-d272-4f0c-9c1d-9c19cf618c2a"
      },
      "execution_count": null,
      "outputs": [
        {
          "output_type": "stream",
          "name": "stdout",
          "text": [
            "fatal: destination path 'torch-rechub' already exists and is not an empty directory.\n"
          ]
        }
      ]
    },
    {
      "cell_type": "code",
      "source": [
        "%cd torch-rechub\n",
        "!python setup.py install"
      ],
      "metadata": {
        "id": "Vbr95R-9uGMM"
      },
      "execution_count": null,
      "outputs": []
    },
    {
      "cell_type": "code",
      "source": [
        "#def setup_seed(seed):\n",
        "#  torch.manual_seed(seed)\n",
        "#  torch.cuda.manual_seed_all(seed)\n",
        "#  np.random.seed(seed)\n",
        "#  torch.backends.cudnn.deterministic = True\n",
        "\n",
        "#setup_seed(2022)"
      ],
      "metadata": {
        "id": "gpob5HYoHkcz"
      },
      "execution_count": null,
      "outputs": []
    },
    {
      "cell_type": "markdown",
      "source": [
        "## Getting ml-1m.csv"
      ],
      "metadata": {
        "id": "jvmrPgXmum6F"
      }
    },
    {
      "cell_type": "code",
      "source": [
        "original_dir = '/content'\n",
        "os.chdir(original_dir)"
      ],
      "metadata": {
        "id": "GU7EUhx9uIVZ"
      },
      "execution_count": null,
      "outputs": []
    },
    {
      "cell_type": "code",
      "source": [
        "pd.set_option('display.max_rows', 500)\n",
        "pd.set_option('display.max_columns', 500)\n",
        "pd.set_option('display.width', 1000)\n",
        "torch.manual_seed(2022)"
      ],
      "metadata": {
        "colab": {
          "base_uri": "https://localhost:8080/"
        },
        "id": "YXQA_HtxuK8q",
        "outputId": "817efeb1-7ab7-46c0-f484-2c1b2db5b5a0"
      },
      "execution_count": null,
      "outputs": [
        {
          "output_type": "execute_result",
          "data": {
            "text/plain": [
              "<torch._C.Generator at 0x7f996487b650>"
            ]
          },
          "metadata": {},
          "execution_count": 45
        }
      ]
    },
    {
      "cell_type": "code",
      "source": [
        "pd.set_option('display.max_rows', 500)\n",
        "pd.set_option('display.max_columns', 500)\n",
        "pd.set_option('display.width', 1000)"
      ],
      "metadata": {
        "id": "BkR_7b-ZuNPF"
      },
      "execution_count": null,
      "outputs": []
    },
    {
      "cell_type": "code",
      "source": [
        "whole_data_path_indrive = '../content/drive/MyDrive/ml-1m'\n",
        "whole_data_path_local = '../content/ml-1m/original'\n",
        "if not os.path.exists(whole_data_path_local):\n",
        "  os.makedirs(whole_data_path_local)"
      ],
      "metadata": {
        "id": "zfjqKSAjuRjY"
      },
      "execution_count": null,
      "outputs": []
    },
    {
      "cell_type": "code",
      "source": [
        "!cp  -r ../content/drive/MyDrive/ml-1m ../content/ml-1m/original"
      ],
      "metadata": {
        "id": "kEWddg7vuUZZ"
      },
      "execution_count": null,
      "outputs": []
    },
    {
      "cell_type": "code",
      "source": [
        "def GenerateWholeCSV(original_data_dir):\n",
        "  data_path = original_data_dir\n",
        "\n",
        "  unames = ['user_id','gender','age','occupation','zip']\n",
        "  user = pd.read_csv(data_path+'/ml-1m/users.dat',sep='::',header=None,names=unames, engine='python',encoding=\"ISO-8859-1\")\n",
        "  rnames = ['user_id','movie_id','rating','timestamp']\n",
        "  ratings = pd.read_csv(data_path+'/ml-1m/ratings.dat',sep='::',header=None,names=rnames, engine='python',encoding=\"ISO-8859-1\")\n",
        "  mnames = ['movie_id','title','genres']\n",
        "  movies = pd.read_csv(data_path+'/ml-1m/movies.dat',sep='::',header=None,names=mnames, engine='python',encoding=\"ISO-8859-1\")\n",
        "\n",
        "  data = pd.merge(pd.merge(ratings,movies),user)\n",
        "  data.to_csv(\"../content/ml-1m/ml-1m.csv\", index=False)"
      ],
      "metadata": {
        "id": "jcCfJFz0uXJp"
      },
      "execution_count": null,
      "outputs": []
    },
    {
      "cell_type": "code",
      "source": [
        "GenerateWholeCSV(whole_data_path_local)"
      ],
      "metadata": {
        "id": "zTQb6XcIuaX7"
      },
      "execution_count": null,
      "outputs": []
    },
    {
      "cell_type": "code",
      "source": [
        "data_path = '/content/ml-1m/ml-1m.csv'\n",
        "data = pd.read_csv(data_path)\n",
        "print(data.head())"
      ],
      "metadata": {
        "colab": {
          "base_uri": "https://localhost:8080/"
        },
        "id": "A5ezWXDkueS7",
        "outputId": "bbe7101b-0d90-4ce4-ee38-bcd25d6ce95f"
      },
      "execution_count": null,
      "outputs": [
        {
          "output_type": "stream",
          "name": "stdout",
          "text": [
            "   user_id  movie_id  rating  timestamp                                   title                        genres gender  age  occupation    zip\n",
            "0        1      1193       5  978300760  One Flew Over the Cuckoo's Nest (1975)                         Drama      F    1          10  48067\n",
            "1        1       661       3  978302109        James and the Giant Peach (1996)  Animation|Children's|Musical      F    1          10  48067\n",
            "2        1       914       3  978301968                     My Fair Lady (1964)               Musical|Romance      F    1          10  48067\n",
            "3        1      3408       4  978300275                  Erin Brockovich (2000)                         Drama      F    1          10  48067\n",
            "4        1      2355       5  978824291                    Bug's Life, A (1998)   Animation|Children's|Comedy      F    1          10  48067\n"
          ]
        }
      ]
    },
    {
      "cell_type": "markdown",
      "source": [
        "## Data Preporcessing"
      ],
      "metadata": {
        "id": "BKpQjJTMpaDX"
      }
    },
    {
      "cell_type": "code",
      "source": [
        "import sys\n",
        "sys.path.append('/content/torch-rechub/')"
      ],
      "metadata": {
        "id": "Grh9BFIgNldP"
      },
      "execution_count": null,
      "outputs": []
    },
    {
      "cell_type": "code",
      "source": [
        "from sklearn.preprocessing import LabelEncoder\n",
        "from torch_rechub.trainers import MatchTrainer\n",
        "from torch_rechub.basic.features import SparseFeature, SequenceFeature\n",
        "from torch_rechub.utils.match import generate_seq_feature_match, gen_model_input\n",
        "from torch_rechub.utils.data import df_to_dict, MatchDataGenerator\n",
        "from torch_rechub.basic.layers import MLP, EmbeddingLayer"
      ],
      "metadata": {
        "id": "JSVRmithpaDY"
      },
      "execution_count": null,
      "outputs": []
    },
    {
      "cell_type": "code",
      "source": [
        "save_dir = '/content/ml-1m/rawdata/'\n",
        "if not os.path.exists(save_dir):\n",
        "  os.makedirs(save_dir)"
      ],
      "metadata": {
        "id": "AmN8IxAIpaDY"
      },
      "execution_count": null,
      "outputs": []
    },
    {
      "cell_type": "code",
      "source": [
        "data['cate_id'] = data['genres'].apply(lambda x: x.split('|')[0])\n",
        "sparse_features = ['user_id', 'movie_id', 'gender', 'age', 'occupation', 'zip', 'cate_id']\n",
        "user_col, item_col = 'user_id', 'movie_id'"
      ],
      "metadata": {
        "id": "U9e4wZjbpaDY"
      },
      "execution_count": null,
      "outputs": []
    },
    {
      "cell_type": "code",
      "source": [
        "feature_max_idx = {} # it's a dict, describing the number of each feature\n",
        "for feature in sparse_features:\n",
        "  lbe = LabelEncoder()\n",
        "  data[feature] = lbe.fit_transform(data[feature]) + 1 # starting from 1 instead of 0\n",
        "  feature_max_idx[feature] = data[feature].max() + 1\n",
        "  if feature == user_col:\n",
        "    user_map = {encode_id + 1 : raw_id for encode_id, raw_id in enumerate(lbe.classes_)}\n",
        "  if feature == item_col:\n",
        "    item_map = {encode_id + 1 : raw_id for encode_id, raw_id in enumerate(lbe.classes_)}\n",
        "\n",
        "np.save(save_dir + 'raw_id_maps.npy', (user_map, item_map))"
      ],
      "metadata": {
        "id": "cYwE7jzNpaDY"
      },
      "execution_count": null,
      "outputs": []
    },
    {
      "cell_type": "code",
      "source": [
        "user_cols = ['gender', 'age', 'occupation', 'zip'] #not using user_id as user_cols\n",
        "item_cols = ['movie_id', 'cate_id']\n",
        "user_profile = data[ [user_col] + user_cols].drop_duplicates(user_col) #contains all the information of users\n",
        "item_profile = data[item_cols].drop_duplicates(item_col) #contains all the information of items\n",
        "print(user_profile.head())\n",
        "print(item_profile.head())"
      ],
      "metadata": {
        "colab": {
          "base_uri": "https://localhost:8080/"
        },
        "outputId": "95ba5b3e-7345-4b29-df68-1b8ee5212795",
        "id": "86voToPmpaDY"
      },
      "execution_count": null,
      "outputs": [
        {
          "output_type": "stream",
          "name": "stdout",
          "text": [
            "     user_id  gender  age  occupation   zip\n",
            "0          1       1    1          11  1589\n",
            "53         2       2    7          17  2249\n",
            "182       12       2    3          13  1166\n",
            "205       15       2    3           8   905\n",
            "406       17       2    6           2  3188\n",
            "   movie_id  cate_id\n",
            "0      1105        8\n",
            "1       640        3\n",
            "2       854       12\n",
            "3      3178        8\n",
            "4      2163        3\n"
          ]
        }
      ]
    },
    {
      "cell_type": "code",
      "source": [
        "df_train, df_test = generate_seq_feature_match(data, user_col, item_col, time_col='timestamp',\n",
        "                         item_attribute_cols=[], sample_method=1, mode=2, \n",
        "                         neg_ratio=5, min_item=0) #generate the sequence feature based on timestamp\n",
        "#print(df_train.head(),'\\n',len(df_train))\n",
        "x_train = gen_model_input(df_train, user_profile, user_col, item_profile, item_col, seq_max_len=50)\n",
        "#print(x_train.keys())\n",
        "del x_train[user_col] #as prof has said, user_id is not necessary for the input data\n",
        "#print(x_train.keys())\n",
        "y_train = np.array( [0] * df_train.shape[0] ) #[pos_sample, neg_sample, neg_sample, ..., neg_sample], so the label=0  it's a multi-task classification problem\n",
        "x_test = gen_model_input(df_test, user_profile, user_col, item_profile, item_col, seq_max_len=50)\n",
        "#del x_test[user_col]\n",
        "#print(x_test.keys())"
      ],
      "metadata": {
        "colab": {
          "base_uri": "https://localhost:8080/"
        },
        "outputId": "a4ed846b-c257-4aa2-a78e-123ad14b937e",
        "id": "P9LE9s5FpaDY"
      },
      "execution_count": null,
      "outputs": [
        {
          "output_type": "stream",
          "name": "stdout",
          "text": [
            "preprocess data\n"
          ]
        },
        {
          "output_type": "stream",
          "name": "stderr",
          "text": [
            "generate sequence features: 100%|██████████| 6040/6040 [00:14<00:00, 408.89it/s]\n"
          ]
        },
        {
          "output_type": "stream",
          "name": "stdout",
          "text": [
            "n_train: 988129, n_test: 6040\n",
            "0 cold start user droped \n"
          ]
        }
      ]
    },
    {
      "cell_type": "code",
      "source": [
        "user_sparse_features = [SparseFeature(name, vocab_size=feature_max_idx[name], embed_dim=32) for name in user_cols]\n",
        "user_sequence_features = [SequenceFeature('hist_movie_id', vocab_size=feature_max_idx['movie_id'],\n",
        "                      embed_dim=32, pooling='mean', shared_with='movie_id')]\n",
        "user_features = user_sparse_features + user_sequence_features\n",
        "\n",
        "#item_sparse_features = [SparseFeature(name, vocab_size=feature_max_idx[name], embed_dim=32) for name in item_cols] data could add a column with sequence of label\n",
        "item_sparse_features = [SparseFeature('movie_id', vocab_size=feature_max_idx['movie_id'], embed_dim=32)]\n",
        "item_sequence_features = []\n",
        "item_features = item_sparse_features + item_sequence_features\n",
        "\n",
        "neg_item_features = [SequenceFeature('neg_items', vocab_size=feature_max_idx['movie_id'], embed_dim=32,\n",
        "                    pooling='concat', shared_with='movie_id')]"
      ],
      "metadata": {
        "id": "nONLTZh1qKPY"
      },
      "execution_count": null,
      "outputs": []
    },
    {
      "cell_type": "markdown",
      "source": [
        "## Training"
      ],
      "metadata": {
        "id": "GE74b_3YuvnE"
      }
    },
    {
      "cell_type": "code",
      "source": [
        "import collections\n",
        "import numpy as np\n",
        "import pandas as pd\n",
        "from torch_rechub.utils.match import Annoy\n",
        "from torch_rechub.basic.metric import topk_metrics\n",
        "from collections import Counter\n",
        "\n",
        "\n",
        "def match_evaluation(user_embedding, item_embedding, test_user, all_item, user_col='user_id', item_col='movie_id',\n",
        "                     raw_id_maps=\"./data/ml-1m/saved/raw_id_maps.npy\", topk=10):\n",
        "    print(\"evaluate embedding matching on test data\")\n",
        "    annoy = Annoy(n_trees=10)\n",
        "    annoy.fit(item_embedding)\n",
        "\n",
        "    #for each user of test dataset, get ann search topk result\n",
        "    print(\"matching for topk\")\n",
        "    user_map, item_map = np.load(raw_id_maps, allow_pickle=True)\n",
        "    match_res = collections.defaultdict(dict)  # user id -> predicted item ids\n",
        "    for user_id, user_emb in zip(test_user[user_col], user_embedding):\n",
        "        if len(user_emb.shape)==2:\n",
        "            #多兴趣召回\n",
        "            items_idx = []\n",
        "            items_scores = []\n",
        "            for i in range(user_emb.shape[0]):\n",
        "                temp_items_idx, temp_items_scores = annoy.query(v=user_emb[i], n=topk)  # the index of topk match items\n",
        "                items_idx += temp_items_idx\n",
        "                items_scores += temp_items_scores\n",
        "            temp_df = pd.DataFrame()\n",
        "            temp_df['item'] = items_idx\n",
        "            temp_df['score'] = items_scores\n",
        "            temp_df = temp_df.sort_values(by='score', ascending=True)\n",
        "            temp_df = temp_df.drop_duplicates(subset=['item'], keep='first', inplace=False)\n",
        "            recall_item_list = temp_df['item'][:topk].values\n",
        "            match_res[user_map[user_id]] = np.vectorize(item_map.get)(all_item[item_col][recall_item_list])\n",
        "        else:\n",
        "            #普通召回\n",
        "            items_idx, items_scores = annoy.query(v=user_emb, n=topk)  #the index of topk match items\n",
        "            match_res[user_map[user_id]] = np.vectorize(item_map.get)(all_item[item_col][items_idx])\n",
        "\n",
        "    #get ground truth\n",
        "    print(\"generate ground truth\")\n",
        "\n",
        "    data = pd.DataFrame({user_col: test_user[user_col], item_col: test_user[item_col]})\n",
        "    data[user_col] = data[user_col].map(user_map)\n",
        "    data[item_col] = data[item_col].map(item_map)\n",
        "    user_pos_item = data.groupby(user_col).agg(list).reset_index()\n",
        "    ground_truth = dict(zip(user_pos_item[user_col], user_pos_item[item_col]))  # user id -> ground truth\n",
        "\n",
        "    print(\"compute topk metrics\")\n",
        "    out = topk_metrics(y_true=ground_truth, y_pred=match_res, topKs=[topk])\n",
        "    print(out)\n",
        "    return out, match_res, ground_truth"
      ],
      "metadata": {
        "id": "GCf_1M6lXgFT"
      },
      "execution_count": null,
      "outputs": []
    },
    {
      "cell_type": "code",
      "source": [
        "from sklearn.preprocessing import LabelEncoder\n",
        "from torch_rechub.models.matching import YoutubeDNN\n",
        "from torch_rechub.trainers import MatchTrainer\n",
        "from torch_rechub.basic.features import SparseFeature, SequenceFeature\n",
        "from torch_rechub.utils.match import generate_seq_feature_match, gen_model_input\n",
        "from torch_rechub.utils.data import df_to_dict, MatchDataGenerator\n",
        "all_item = df_to_dict(item_profile)\n",
        "test_user = x_test\n",
        "\n",
        "dg = MatchDataGenerator(x=x_train, y=y_train) #This dataloader class can be optimized better; it's not understandable and convenient enough\n",
        "train_dl, test_dl, item_dl = dg.generate_dataloader(test_user, all_item, batch_size=256, num_workers=2)\n",
        "\n",
        "model = YoutubeDNN(user_features, item_features, neg_item_features, user_params={\"dims\": [128, 256, 128, 64, 32]}, temperature=0.02)  # [4] MLP的最后一层需保持与item embedding一致\n",
        "\n",
        "#mode=1 means pair-wise learning\n",
        "trainer = MatchTrainer(model,\n",
        "             mode=2,\n",
        "             optimizer_params={\n",
        "                      \"lr\": 1e-4,\n",
        "                      \"weight_decay\": 1e-6\n",
        "                      },\n",
        "             n_epoch=10, #5\n",
        "             device='cuda:0',\n",
        "             model_path=save_dir)\n",
        "\n",
        "trainer.fit(train_dl)\n",
        "\n",
        "print(\"inference embedding\")\n",
        "user_embedding = trainer.inference_embedding(model=model, mode=\"user\", data_loader=test_dl, model_path=save_dir)\n",
        "item_embedding = trainer.inference_embedding(model=model, mode=\"item\", data_loader=item_dl, model_path=save_dir)\n"
      ],
      "metadata": {
        "colab": {
          "base_uri": "https://localhost:8080/"
        },
        "id": "990W515-p2AJ",
        "outputId": "742153c9-b5f0-4a22-d816-e0c111f6c44c"
      },
      "execution_count": null,
      "outputs": [
        {
          "output_type": "stream",
          "name": "stdout",
          "text": [
            "epoch: 0\n"
          ]
        },
        {
          "output_type": "stream",
          "name": "stderr",
          "text": [
            "train: 100%|██████████| 3860/3860 [01:12<00:00, 53.45it/s, loss=2.11]\n"
          ]
        },
        {
          "output_type": "stream",
          "name": "stdout",
          "text": [
            "epoch: 1\n"
          ]
        },
        {
          "output_type": "stream",
          "name": "stderr",
          "text": [
            "train: 100%|██████████| 3860/3860 [01:03<00:00, 61.20it/s, loss=1.57]\n"
          ]
        },
        {
          "output_type": "stream",
          "name": "stdout",
          "text": [
            "epoch: 2\n"
          ]
        },
        {
          "output_type": "stream",
          "name": "stderr",
          "text": [
            "train: 100%|██████████| 3860/3860 [01:03<00:00, 61.04it/s, loss=1.4]\n"
          ]
        },
        {
          "output_type": "stream",
          "name": "stdout",
          "text": [
            "epoch: 3\n"
          ]
        },
        {
          "output_type": "stream",
          "name": "stderr",
          "text": [
            "train: 100%|██████████| 3860/3860 [01:15<00:00, 50.90it/s, loss=1.28]\n"
          ]
        },
        {
          "output_type": "stream",
          "name": "stdout",
          "text": [
            "epoch: 4\n"
          ]
        },
        {
          "output_type": "stream",
          "name": "stderr",
          "text": [
            "train: 100%|██████████| 3860/3860 [01:02<00:00, 61.29it/s, loss=1.19]\n"
          ]
        },
        {
          "output_type": "stream",
          "name": "stdout",
          "text": [
            "epoch: 5\n"
          ]
        },
        {
          "output_type": "stream",
          "name": "stderr",
          "text": [
            "train: 100%|██████████| 3860/3860 [01:01<00:00, 62.33it/s, loss=1.14]\n"
          ]
        },
        {
          "output_type": "stream",
          "name": "stdout",
          "text": [
            "epoch: 6\n"
          ]
        },
        {
          "output_type": "stream",
          "name": "stderr",
          "text": [
            "train: 100%|██████████| 3860/3860 [01:03<00:00, 61.06it/s, loss=1.1]\n"
          ]
        },
        {
          "output_type": "stream",
          "name": "stdout",
          "text": [
            "epoch: 7\n"
          ]
        },
        {
          "output_type": "stream",
          "name": "stderr",
          "text": [
            "train: 100%|██████████| 3860/3860 [01:01<00:00, 62.47it/s, loss=1.01]\n"
          ]
        },
        {
          "output_type": "stream",
          "name": "stdout",
          "text": [
            "epoch: 8\n"
          ]
        },
        {
          "output_type": "stream",
          "name": "stderr",
          "text": [
            "train: 100%|██████████| 3860/3860 [01:03<00:00, 61.21it/s, loss=0.991]\n"
          ]
        },
        {
          "output_type": "stream",
          "name": "stdout",
          "text": [
            "epoch: 9\n"
          ]
        },
        {
          "output_type": "stream",
          "name": "stderr",
          "text": [
            "train: 100%|██████████| 3860/3860 [01:01<00:00, 62.44it/s, loss=1]\n"
          ]
        },
        {
          "output_type": "stream",
          "name": "stdout",
          "text": [
            "inference embedding\n"
          ]
        },
        {
          "output_type": "stream",
          "name": "stderr",
          "text": [
            "user inference: 100%|██████████| 24/24 [00:00<00:00, 55.29it/s]\n",
            "item inference: 100%|██████████| 15/15 [00:00<00:00, 57.77it/s]\n"
          ]
        }
      ]
    },
    {
      "cell_type": "code",
      "source": [
        "#metric_dict_1 = match_evaluation(user_embedding, item_embedding, test_user, all_item, topk=100, raw_id_maps=save_dir+\"raw_id_maps.npy\")\n",
        "#metric_dict_2 = match_evaluation(user_embedding, item_embedding, test_user, all_item, topk=50, raw_id_maps=save_dir+\"raw_id_maps.npy\")\n",
        "#metric_dict_3 = match_evaluation(user_embedding, item_embedding, test_user, all_item, topk=10, raw_id_maps=save_dir+\"raw_id_maps.npy\")\n",
        "#metric_dict_4 = match_evaluation(user_embedding, item_embedding, test_user, all_item, topk=5, raw_id_maps=save_dir+\"raw_id_maps.npy\")\n",
        "metric_dict_5, y_pred_YDNN_3, y_truth_YDNN_3 = match_evaluation(user_embedding, item_embedding, test_user, all_item, topk=3, raw_id_maps=save_dir+\"raw_id_maps.npy\")\n",
        "#print(metric_dict_1,'\\n','------------------','\\n',metric_dict_2,'\\n','------------------','\\n',metric_dict_3,'\\n','------------------','\\n',metric_dict_4,'\\n','------------------','\\n',metric_dict_5)"
      ],
      "metadata": {
        "colab": {
          "base_uri": "https://localhost:8080/"
        },
        "id": "XPGWbpHir9vt",
        "outputId": "9da9bfbf-8dc2-46ef-91dc-657df814a5d6"
      },
      "execution_count": null,
      "outputs": [
        {
          "output_type": "stream",
          "name": "stdout",
          "text": [
            "evaluate embedding matching on test data\n",
            "matching for topk\n",
            "generate ground truth\n",
            "compute topk metrics\n",
            "defaultdict(<class 'list'>, {'NDCG': ['NDCG@3: 0.004'], 'MRR': ['MRR@3: 0.0074'], 'Recall': ['Recall@3: 0.0123'], 'Hit': ['Hit@3: 0.0123'], 'Precision': ['Precision@3: 0.0041']})\n"
          ]
        }
      ]
    },
    {
      "cell_type": "code",
      "source": [
        "y_pred_YDNN_3[2], y_truth_YDNN_3[2]"
      ],
      "metadata": {
        "id": "a_ipr8F9pKz0",
        "colab": {
          "base_uri": "https://localhost:8080/"
        },
        "outputId": "e0d2aba9-5465-4c23-bb98-2364398d7910"
      },
      "execution_count": null,
      "outputs": [
        {
          "output_type": "execute_result",
          "data": {
            "text/plain": [
              "(array([1479,  379, 1004]), [1687])"
            ]
          },
          "metadata": {},
          "execution_count": 66
        }
      ]
    },
    {
      "cell_type": "code",
      "source": [
        "import matplotlib.pyplot as plt"
      ],
      "metadata": {
        "id": "ounj7azyVrB2"
      },
      "execution_count": null,
      "outputs": []
    },
    {
      "cell_type": "code",
      "source": [
        "'''\n",
        "loss = [1.67,\n",
        "1.38,\n",
        "1.21,\n",
        "1.11,\n",
        "1.04,\n",
        "0.965,\n",
        "0.936,\n",
        "0.916,\n",
        "0.884,\n",
        "0.875,\n",
        "0.854,\n",
        "0.835,\n",
        "0.861,\n",
        "0.845,\n",
        "0.804,\n",
        "0.794,\n",
        "0.794,\n",
        "0.797,\n",
        "0.793,\n",
        "0.771,\n",
        "0.784,\n",
        "0.791,\n",
        "0.786,\n",
        "0.767,\n",
        "0.77,\n",
        "0.711,\n",
        "0.748,\n",
        "0.752,\n",
        "0.756,\n",
        "0.742,\n",
        "0.76,\n",
        "0.732,\n",
        "0.758,\n",
        "0.715,\n",
        "0.759,\n",
        "0.7,\n",
        "0.718,\n",
        "0.712,\n",
        "0.732,\n",
        "0.743,\n",
        "0.716,\n",
        "0.728,\n",
        "0.703,\n",
        "0.73,\n",
        "0.72,\n",
        "0.684,\n",
        "0.676,\n",
        "0.675,\n",
        "0.742,\n",
        "0.697,\n",
        "0.681,\n",
        "0.694,\n",
        "0.642,\n",
        "0.645,\n",
        "0.685,\n",
        "0.693,\n",
        "0.675,\n",
        "0.69,\n",
        "0.676,\n",
        "0.671,\n",
        "0.694,\n",
        "0.656,\n",
        "0.687,\n",
        "0.65,\n",
        "0.654,\n",
        "0.7,\n",
        "0.674,\n",
        "0.658,\n",
        "0.651,\n",
        "0.664,\n",
        "0.657,\n",
        "0.685,\n",
        "0.692,\n",
        "0.636,\n",
        "0.675,\n",
        "0.656,\n",
        "0.659,\n",
        "0.649,\n",
        "0.626,\n",
        "0.653,\n",
        "0.646,\n",
        "0.653,\n",
        "0.685,\n",
        "0.65,\n",
        "0.648,\n",
        "0.651,\n",
        "0.632,\n",
        "0.655,\n",
        "0.652,\n",
        "0.661,\n",
        "0.621,\n",
        "0.638,\n",
        "0.657,\n",
        "0.621,\n",
        "0.634,\n",
        "0.649,\n",
        "0.637,\n",
        "0.627,\n",
        "0.629,\n",
        "0.651]\n",
        "x = [i for i in range(len(loss))]\n",
        "'''"
      ],
      "metadata": {
        "id": "jwf6pw7KVBrf",
        "colab": {
          "base_uri": "https://localhost:8080/",
          "height": 107
        },
        "outputId": "02c6babf-7c64-4910-bab9-aacf3790574b"
      },
      "execution_count": null,
      "outputs": [
        {
          "output_type": "execute_result",
          "data": {
            "text/plain": [
              "'\\nloss = [1.67,\\n1.38,\\n1.21,\\n1.11,\\n1.04,\\n0.965,\\n0.936,\\n0.916,\\n0.884,\\n0.875,\\n0.854,\\n0.835,\\n0.861,\\n0.845,\\n0.804,\\n0.794,\\n0.794,\\n0.797,\\n0.793,\\n0.771,\\n0.784,\\n0.791,\\n0.786,\\n0.767,\\n0.77,\\n0.711,\\n0.748,\\n0.752,\\n0.756,\\n0.742,\\n0.76,\\n0.732,\\n0.758,\\n0.715,\\n0.759,\\n0.7,\\n0.718,\\n0.712,\\n0.732,\\n0.743,\\n0.716,\\n0.728,\\n0.703,\\n0.73,\\n0.72,\\n0.684,\\n0.676,\\n0.675,\\n0.742,\\n0.697,\\n0.681,\\n0.694,\\n0.642,\\n0.645,\\n0.685,\\n0.693,\\n0.675,\\n0.69,\\n0.676,\\n0.671,\\n0.694,\\n0.656,\\n0.687,\\n0.65,\\n0.654,\\n0.7,\\n0.674,\\n0.658,\\n0.651,\\n0.664,\\n0.657,\\n0.685,\\n0.692,\\n0.636,\\n0.675,\\n0.656,\\n0.659,\\n0.649,\\n0.626,\\n0.653,\\n0.646,\\n0.653,\\n0.685,\\n0.65,\\n0.648,\\n0.651,\\n0.632,\\n0.655,\\n0.652,\\n0.661,\\n0.621,\\n0.638,\\n0.657,\\n0.621,\\n0.634,\\n0.649,\\n0.637,\\n0.627,\\n0.629,\\n0.651]\\nx = [i for i in range(len(loss))]\\n'"
            ],
            "application/vnd.google.colaboratory.intrinsic+json": {
              "type": "string"
            }
          },
          "metadata": {},
          "execution_count": 64
        }
      ]
    },
    {
      "cell_type": "code",
      "source": [
        "'''\n",
        "plt.figure(figsize=(10, 5))\n",
        "plt.plot(x, loss)\n",
        "plt.xlabel('Epoch')\n",
        "plt.ylabel('Training Loss')\n",
        "plt.title('ML-1M YouTubeDNN')\n",
        "plt.savefig('loss.png')\n",
        "plt.show()\n",
        "'''"
      ],
      "metadata": {
        "colab": {
          "base_uri": "https://localhost:8080/",
          "height": 35
        },
        "id": "kkZIBId7VtPH",
        "outputId": "3e4cfb75-2e60-45ef-b8dd-f9ce182ff426"
      },
      "execution_count": null,
      "outputs": [
        {
          "output_type": "execute_result",
          "data": {
            "text/plain": [
              "\"\\nplt.figure(figsize=(10, 5))\\nplt.plot(x, loss)\\nplt.xlabel('Epoch')\\nplt.ylabel('Training Loss')\\nplt.title('ML-1M YouTubeDNN')\\nplt.savefig('loss.png')\\nplt.show()\\n\""
            ],
            "application/vnd.google.colaboratory.intrinsic+json": {
              "type": "string"
            }
          },
          "metadata": {},
          "execution_count": 65
        }
      ]
    },
    {
      "cell_type": "markdown",
      "source": [
        "# YDNNA in MovieLen"
      ],
      "metadata": {
        "id": "kmtMkezH_JWu"
      }
    },
    {
      "cell_type": "markdown",
      "source": [
        "## Prerequisite Libraries"
      ],
      "metadata": {
        "id": "BxCMH81eBSg0"
      }
    },
    {
      "cell_type": "code",
      "source": [
        "!pip install annoy"
      ],
      "metadata": {
        "colab": {
          "base_uri": "https://localhost:8080/"
        },
        "id": "-o9oWIgO_-ZQ",
        "outputId": "02b620ea-23d9-47b1-b89c-8bef2129fb73"
      },
      "execution_count": null,
      "outputs": [
        {
          "output_type": "stream",
          "name": "stdout",
          "text": [
            "Looking in indexes: https://pypi.org/simple, https://us-python.pkg.dev/colab-wheels/public/simple/\n",
            "Collecting annoy\n",
            "  Downloading annoy-1.17.1.tar.gz (647 kB)\n",
            "\u001b[K     |████████████████████████████████| 647 kB 7.8 MB/s \n",
            "\u001b[?25hBuilding wheels for collected packages: annoy\n",
            "  Building wheel for annoy (setup.py) ... \u001b[?25l\u001b[?25hdone\n",
            "  Created wheel for annoy: filename=annoy-1.17.1-cp37-cp37m-linux_x86_64.whl size=395181 sha256=3b63638298c6fe401c75becf2a2fde6df07e1206c9890dfc7d6f646640c255d7\n",
            "  Stored in directory: /root/.cache/pip/wheels/81/94/bf/92cb0e4fef8770fe9c6df0ba588fca30ab7c306b6048ae8a54\n",
            "Successfully built annoy\n",
            "Installing collected packages: annoy\n",
            "Successfully installed annoy-1.17.1\n"
          ]
        }
      ]
    },
    {
      "cell_type": "code",
      "source": [
        "import annoy\n",
        "import numpy as np\n",
        "import pandas as pd\n",
        "import torch\n",
        "import torch.nn as nn\n",
        "import torch.nn.functional as F\n",
        "import os\n",
        "import sys"
      ],
      "metadata": {
        "id": "XQ7T4KW6AAwy"
      },
      "execution_count": null,
      "outputs": []
    },
    {
      "cell_type": "code",
      "source": [
        "!git clone https://github.com/datawhalechina/torch-rechub.git\n",
        "sys.path.append('/content/torch-rechub/')\n",
        "% cd torch-rechub\n",
        "!python setup.py install"
      ],
      "metadata": {
        "id": "hHIZ09rKAHnQ",
        "colab": {
          "base_uri": "https://localhost:8080/"
        },
        "outputId": "02601505-e5b9-4130-9f96-4dd7113afaeb"
      },
      "execution_count": null,
      "outputs": [
        {
          "output_type": "stream",
          "name": "stdout",
          "text": [
            "Cloning into 'torch-rechub'...\n",
            "remote: Enumerating objects: 530, done.\u001b[K\n",
            "remote: Counting objects: 100% (530/530), done.\u001b[K\n",
            "remote: Compressing objects: 100% (222/222), done.\u001b[K\n",
            "remote: Total 530 (delta 308), reused 504 (delta 306), pack-reused 0\u001b[K\n",
            "Receiving objects: 100% (530/530), 226.82 KiB | 7.32 MiB/s, done.\n",
            "Resolving deltas: 100% (308/308), done.\n",
            "/content/torch-rechub\n",
            "running install\n",
            "running bdist_egg\n",
            "running egg_info\n",
            "creating torch_rechub.egg-info\n",
            "writing torch_rechub.egg-info/PKG-INFO\n",
            "writing dependency_links to torch_rechub.egg-info/dependency_links.txt\n",
            "writing requirements to torch_rechub.egg-info/requires.txt\n",
            "writing top-level names to torch_rechub.egg-info/top_level.txt\n",
            "writing manifest file 'torch_rechub.egg-info/SOURCES.txt'\n",
            "adding license file 'LICENSE'\n",
            "writing manifest file 'torch_rechub.egg-info/SOURCES.txt'\n",
            "installing library code to build/bdist.linux-x86_64/egg\n",
            "running install_lib\n",
            "running build_py\n",
            "creating build\n",
            "creating build/lib\n",
            "creating build/lib/torch_rechub\n",
            "copying torch_rechub/__init__.py -> build/lib/torch_rechub\n",
            "creating build/lib/torch_rechub/utils\n",
            "copying torch_rechub/utils/__init__.py -> build/lib/torch_rechub/utils\n",
            "copying torch_rechub/utils/match.py -> build/lib/torch_rechub/utils\n",
            "copying torch_rechub/utils/mtl.py -> build/lib/torch_rechub/utils\n",
            "copying torch_rechub/utils/data.py -> build/lib/torch_rechub/utils\n",
            "creating build/lib/torch_rechub/basic\n",
            "copying torch_rechub/basic/__init__.py -> build/lib/torch_rechub/basic\n",
            "copying torch_rechub/basic/features.py -> build/lib/torch_rechub/basic\n",
            "copying torch_rechub/basic/metric.py -> build/lib/torch_rechub/basic\n",
            "copying torch_rechub/basic/activation.py -> build/lib/torch_rechub/basic\n",
            "copying torch_rechub/basic/loss_func.py -> build/lib/torch_rechub/basic\n",
            "copying torch_rechub/basic/metaoptimizer.py -> build/lib/torch_rechub/basic\n",
            "copying torch_rechub/basic/initializers.py -> build/lib/torch_rechub/basic\n",
            "copying torch_rechub/basic/callback.py -> build/lib/torch_rechub/basic\n",
            "copying torch_rechub/basic/layers.py -> build/lib/torch_rechub/basic\n",
            "creating build/lib/torch_rechub/models\n",
            "copying torch_rechub/models/__init__.py -> build/lib/torch_rechub/models\n",
            "creating build/lib/torch_rechub/trainers\n",
            "copying torch_rechub/trainers/__init__.py -> build/lib/torch_rechub/trainers\n",
            "copying torch_rechub/trainers/match_trainer.py -> build/lib/torch_rechub/trainers\n",
            "copying torch_rechub/trainers/ctr_trainer.py -> build/lib/torch_rechub/trainers\n",
            "copying torch_rechub/trainers/mtl_trainer.py -> build/lib/torch_rechub/trainers\n",
            "creating build/lib/torch_rechub/models/multi_task\n",
            "copying torch_rechub/models/multi_task/__init__.py -> build/lib/torch_rechub/models/multi_task\n",
            "copying torch_rechub/models/multi_task/aitm.py -> build/lib/torch_rechub/models/multi_task\n",
            "copying torch_rechub/models/multi_task/shared_bottom.py -> build/lib/torch_rechub/models/multi_task\n",
            "copying torch_rechub/models/multi_task/mmoe.py -> build/lib/torch_rechub/models/multi_task\n",
            "copying torch_rechub/models/multi_task/ple.py -> build/lib/torch_rechub/models/multi_task\n",
            "copying torch_rechub/models/multi_task/esmm.py -> build/lib/torch_rechub/models/multi_task\n",
            "creating build/lib/torch_rechub/models/matching\n",
            "copying torch_rechub/models/matching/__init__.py -> build/lib/torch_rechub/models/matching\n",
            "copying torch_rechub/models/matching/sasrec.py -> build/lib/torch_rechub/models/matching\n",
            "copying torch_rechub/models/matching/sine.py -> build/lib/torch_rechub/models/matching\n",
            "copying torch_rechub/models/matching/comirec.py -> build/lib/torch_rechub/models/matching\n",
            "copying torch_rechub/models/matching/gru4rec.py -> build/lib/torch_rechub/models/matching\n",
            "copying torch_rechub/models/matching/dssm.py -> build/lib/torch_rechub/models/matching\n",
            "copying torch_rechub/models/matching/youtube_sbc.py -> build/lib/torch_rechub/models/matching\n",
            "copying torch_rechub/models/matching/dssm_facebook.py -> build/lib/torch_rechub/models/matching\n",
            "copying torch_rechub/models/matching/youtube_dnn.py -> build/lib/torch_rechub/models/matching\n",
            "copying torch_rechub/models/matching/mind.py -> build/lib/torch_rechub/models/matching\n",
            "creating build/lib/torch_rechub/models/ranking\n",
            "copying torch_rechub/models/ranking/__init__.py -> build/lib/torch_rechub/models/ranking\n",
            "copying torch_rechub/models/ranking/deepfm.py -> build/lib/torch_rechub/models/ranking\n",
            "copying torch_rechub/models/ranking/din.py -> build/lib/torch_rechub/models/ranking\n",
            "copying torch_rechub/models/ranking/widedeep.py -> build/lib/torch_rechub/models/ranking\n",
            "copying torch_rechub/models/ranking/dcn.py -> build/lib/torch_rechub/models/ranking\n",
            "copying torch_rechub/models/ranking/deepffm.py -> build/lib/torch_rechub/models/ranking\n",
            "creating build/bdist.linux-x86_64\n",
            "creating build/bdist.linux-x86_64/egg\n",
            "creating build/bdist.linux-x86_64/egg/torch_rechub\n",
            "copying build/lib/torch_rechub/__init__.py -> build/bdist.linux-x86_64/egg/torch_rechub\n",
            "creating build/bdist.linux-x86_64/egg/torch_rechub/utils\n",
            "copying build/lib/torch_rechub/utils/__init__.py -> build/bdist.linux-x86_64/egg/torch_rechub/utils\n",
            "copying build/lib/torch_rechub/utils/match.py -> build/bdist.linux-x86_64/egg/torch_rechub/utils\n",
            "copying build/lib/torch_rechub/utils/mtl.py -> build/bdist.linux-x86_64/egg/torch_rechub/utils\n",
            "copying build/lib/torch_rechub/utils/data.py -> build/bdist.linux-x86_64/egg/torch_rechub/utils\n",
            "creating build/bdist.linux-x86_64/egg/torch_rechub/basic\n",
            "copying build/lib/torch_rechub/basic/__init__.py -> build/bdist.linux-x86_64/egg/torch_rechub/basic\n",
            "copying build/lib/torch_rechub/basic/features.py -> build/bdist.linux-x86_64/egg/torch_rechub/basic\n",
            "copying build/lib/torch_rechub/basic/metric.py -> build/bdist.linux-x86_64/egg/torch_rechub/basic\n",
            "copying build/lib/torch_rechub/basic/activation.py -> build/bdist.linux-x86_64/egg/torch_rechub/basic\n",
            "copying build/lib/torch_rechub/basic/loss_func.py -> build/bdist.linux-x86_64/egg/torch_rechub/basic\n",
            "copying build/lib/torch_rechub/basic/metaoptimizer.py -> build/bdist.linux-x86_64/egg/torch_rechub/basic\n",
            "copying build/lib/torch_rechub/basic/initializers.py -> build/bdist.linux-x86_64/egg/torch_rechub/basic\n",
            "copying build/lib/torch_rechub/basic/callback.py -> build/bdist.linux-x86_64/egg/torch_rechub/basic\n",
            "copying build/lib/torch_rechub/basic/layers.py -> build/bdist.linux-x86_64/egg/torch_rechub/basic\n",
            "creating build/bdist.linux-x86_64/egg/torch_rechub/models\n",
            "copying build/lib/torch_rechub/models/__init__.py -> build/bdist.linux-x86_64/egg/torch_rechub/models\n",
            "creating build/bdist.linux-x86_64/egg/torch_rechub/models/multi_task\n",
            "copying build/lib/torch_rechub/models/multi_task/__init__.py -> build/bdist.linux-x86_64/egg/torch_rechub/models/multi_task\n",
            "copying build/lib/torch_rechub/models/multi_task/aitm.py -> build/bdist.linux-x86_64/egg/torch_rechub/models/multi_task\n",
            "copying build/lib/torch_rechub/models/multi_task/shared_bottom.py -> build/bdist.linux-x86_64/egg/torch_rechub/models/multi_task\n",
            "copying build/lib/torch_rechub/models/multi_task/mmoe.py -> build/bdist.linux-x86_64/egg/torch_rechub/models/multi_task\n",
            "copying build/lib/torch_rechub/models/multi_task/ple.py -> build/bdist.linux-x86_64/egg/torch_rechub/models/multi_task\n",
            "copying build/lib/torch_rechub/models/multi_task/esmm.py -> build/bdist.linux-x86_64/egg/torch_rechub/models/multi_task\n",
            "creating build/bdist.linux-x86_64/egg/torch_rechub/models/matching\n",
            "copying build/lib/torch_rechub/models/matching/__init__.py -> build/bdist.linux-x86_64/egg/torch_rechub/models/matching\n",
            "copying build/lib/torch_rechub/models/matching/sasrec.py -> build/bdist.linux-x86_64/egg/torch_rechub/models/matching\n",
            "copying build/lib/torch_rechub/models/matching/sine.py -> build/bdist.linux-x86_64/egg/torch_rechub/models/matching\n",
            "copying build/lib/torch_rechub/models/matching/comirec.py -> build/bdist.linux-x86_64/egg/torch_rechub/models/matching\n",
            "copying build/lib/torch_rechub/models/matching/gru4rec.py -> build/bdist.linux-x86_64/egg/torch_rechub/models/matching\n",
            "copying build/lib/torch_rechub/models/matching/dssm.py -> build/bdist.linux-x86_64/egg/torch_rechub/models/matching\n",
            "copying build/lib/torch_rechub/models/matching/youtube_sbc.py -> build/bdist.linux-x86_64/egg/torch_rechub/models/matching\n",
            "copying build/lib/torch_rechub/models/matching/dssm_facebook.py -> build/bdist.linux-x86_64/egg/torch_rechub/models/matching\n",
            "copying build/lib/torch_rechub/models/matching/youtube_dnn.py -> build/bdist.linux-x86_64/egg/torch_rechub/models/matching\n",
            "copying build/lib/torch_rechub/models/matching/mind.py -> build/bdist.linux-x86_64/egg/torch_rechub/models/matching\n",
            "creating build/bdist.linux-x86_64/egg/torch_rechub/models/ranking\n",
            "copying build/lib/torch_rechub/models/ranking/__init__.py -> build/bdist.linux-x86_64/egg/torch_rechub/models/ranking\n",
            "copying build/lib/torch_rechub/models/ranking/deepfm.py -> build/bdist.linux-x86_64/egg/torch_rechub/models/ranking\n",
            "copying build/lib/torch_rechub/models/ranking/din.py -> build/bdist.linux-x86_64/egg/torch_rechub/models/ranking\n",
            "copying build/lib/torch_rechub/models/ranking/widedeep.py -> build/bdist.linux-x86_64/egg/torch_rechub/models/ranking\n",
            "copying build/lib/torch_rechub/models/ranking/dcn.py -> build/bdist.linux-x86_64/egg/torch_rechub/models/ranking\n",
            "copying build/lib/torch_rechub/models/ranking/deepffm.py -> build/bdist.linux-x86_64/egg/torch_rechub/models/ranking\n",
            "creating build/bdist.linux-x86_64/egg/torch_rechub/trainers\n",
            "copying build/lib/torch_rechub/trainers/__init__.py -> build/bdist.linux-x86_64/egg/torch_rechub/trainers\n",
            "copying build/lib/torch_rechub/trainers/match_trainer.py -> build/bdist.linux-x86_64/egg/torch_rechub/trainers\n",
            "copying build/lib/torch_rechub/trainers/ctr_trainer.py -> build/bdist.linux-x86_64/egg/torch_rechub/trainers\n",
            "copying build/lib/torch_rechub/trainers/mtl_trainer.py -> build/bdist.linux-x86_64/egg/torch_rechub/trainers\n",
            "byte-compiling build/bdist.linux-x86_64/egg/torch_rechub/__init__.py to __init__.cpython-37.pyc\n",
            "byte-compiling build/bdist.linux-x86_64/egg/torch_rechub/utils/__init__.py to __init__.cpython-37.pyc\n",
            "byte-compiling build/bdist.linux-x86_64/egg/torch_rechub/utils/match.py to match.cpython-37.pyc\n",
            "byte-compiling build/bdist.linux-x86_64/egg/torch_rechub/utils/mtl.py to mtl.cpython-37.pyc\n",
            "byte-compiling build/bdist.linux-x86_64/egg/torch_rechub/utils/data.py to data.cpython-37.pyc\n",
            "byte-compiling build/bdist.linux-x86_64/egg/torch_rechub/basic/__init__.py to __init__.cpython-37.pyc\n",
            "byte-compiling build/bdist.linux-x86_64/egg/torch_rechub/basic/features.py to features.cpython-37.pyc\n",
            "byte-compiling build/bdist.linux-x86_64/egg/torch_rechub/basic/metric.py to metric.cpython-37.pyc\n",
            "byte-compiling build/bdist.linux-x86_64/egg/torch_rechub/basic/activation.py to activation.cpython-37.pyc\n",
            "byte-compiling build/bdist.linux-x86_64/egg/torch_rechub/basic/loss_func.py to loss_func.cpython-37.pyc\n",
            "byte-compiling build/bdist.linux-x86_64/egg/torch_rechub/basic/metaoptimizer.py to metaoptimizer.cpython-37.pyc\n",
            "byte-compiling build/bdist.linux-x86_64/egg/torch_rechub/basic/initializers.py to initializers.cpython-37.pyc\n",
            "byte-compiling build/bdist.linux-x86_64/egg/torch_rechub/basic/callback.py to callback.cpython-37.pyc\n",
            "byte-compiling build/bdist.linux-x86_64/egg/torch_rechub/basic/layers.py to layers.cpython-37.pyc\n",
            "byte-compiling build/bdist.linux-x86_64/egg/torch_rechub/models/__init__.py to __init__.cpython-37.pyc\n",
            "byte-compiling build/bdist.linux-x86_64/egg/torch_rechub/models/multi_task/__init__.py to __init__.cpython-37.pyc\n",
            "byte-compiling build/bdist.linux-x86_64/egg/torch_rechub/models/multi_task/aitm.py to aitm.cpython-37.pyc\n",
            "byte-compiling build/bdist.linux-x86_64/egg/torch_rechub/models/multi_task/shared_bottom.py to shared_bottom.cpython-37.pyc\n",
            "byte-compiling build/bdist.linux-x86_64/egg/torch_rechub/models/multi_task/mmoe.py to mmoe.cpython-37.pyc\n",
            "byte-compiling build/bdist.linux-x86_64/egg/torch_rechub/models/multi_task/ple.py to ple.cpython-37.pyc\n",
            "byte-compiling build/bdist.linux-x86_64/egg/torch_rechub/models/multi_task/esmm.py to esmm.cpython-37.pyc\n",
            "byte-compiling build/bdist.linux-x86_64/egg/torch_rechub/models/matching/__init__.py to __init__.cpython-37.pyc\n",
            "byte-compiling build/bdist.linux-x86_64/egg/torch_rechub/models/matching/sasrec.py to sasrec.cpython-37.pyc\n",
            "byte-compiling build/bdist.linux-x86_64/egg/torch_rechub/models/matching/sine.py to sine.cpython-37.pyc\n",
            "byte-compiling build/bdist.linux-x86_64/egg/torch_rechub/models/matching/comirec.py to comirec.cpython-37.pyc\n",
            "byte-compiling build/bdist.linux-x86_64/egg/torch_rechub/models/matching/gru4rec.py to gru4rec.cpython-37.pyc\n",
            "byte-compiling build/bdist.linux-x86_64/egg/torch_rechub/models/matching/dssm.py to dssm.cpython-37.pyc\n",
            "byte-compiling build/bdist.linux-x86_64/egg/torch_rechub/models/matching/youtube_sbc.py to youtube_sbc.cpython-37.pyc\n",
            "byte-compiling build/bdist.linux-x86_64/egg/torch_rechub/models/matching/dssm_facebook.py to dssm_facebook.cpython-37.pyc\n",
            "byte-compiling build/bdist.linux-x86_64/egg/torch_rechub/models/matching/youtube_dnn.py to youtube_dnn.cpython-37.pyc\n",
            "byte-compiling build/bdist.linux-x86_64/egg/torch_rechub/models/matching/mind.py to mind.cpython-37.pyc\n",
            "byte-compiling build/bdist.linux-x86_64/egg/torch_rechub/models/ranking/__init__.py to __init__.cpython-37.pyc\n",
            "byte-compiling build/bdist.linux-x86_64/egg/torch_rechub/models/ranking/deepfm.py to deepfm.cpython-37.pyc\n",
            "byte-compiling build/bdist.linux-x86_64/egg/torch_rechub/models/ranking/din.py to din.cpython-37.pyc\n",
            "byte-compiling build/bdist.linux-x86_64/egg/torch_rechub/models/ranking/widedeep.py to widedeep.cpython-37.pyc\n",
            "byte-compiling build/bdist.linux-x86_64/egg/torch_rechub/models/ranking/dcn.py to dcn.cpython-37.pyc\n",
            "byte-compiling build/bdist.linux-x86_64/egg/torch_rechub/models/ranking/deepffm.py to deepffm.cpython-37.pyc\n",
            "byte-compiling build/bdist.linux-x86_64/egg/torch_rechub/trainers/__init__.py to __init__.cpython-37.pyc\n",
            "byte-compiling build/bdist.linux-x86_64/egg/torch_rechub/trainers/match_trainer.py to match_trainer.cpython-37.pyc\n",
            "byte-compiling build/bdist.linux-x86_64/egg/torch_rechub/trainers/ctr_trainer.py to ctr_trainer.cpython-37.pyc\n",
            "byte-compiling build/bdist.linux-x86_64/egg/torch_rechub/trainers/mtl_trainer.py to mtl_trainer.cpython-37.pyc\n",
            "creating build/bdist.linux-x86_64/egg/EGG-INFO\n",
            "copying torch_rechub.egg-info/PKG-INFO -> build/bdist.linux-x86_64/egg/EGG-INFO\n",
            "copying torch_rechub.egg-info/SOURCES.txt -> build/bdist.linux-x86_64/egg/EGG-INFO\n",
            "copying torch_rechub.egg-info/dependency_links.txt -> build/bdist.linux-x86_64/egg/EGG-INFO\n",
            "copying torch_rechub.egg-info/requires.txt -> build/bdist.linux-x86_64/egg/EGG-INFO\n",
            "copying torch_rechub.egg-info/top_level.txt -> build/bdist.linux-x86_64/egg/EGG-INFO\n",
            "zip_safe flag not set; analyzing archive contents...\n",
            "creating dist\n",
            "creating 'dist/torch_rechub-0.0.2-py3.7.egg' and adding 'build/bdist.linux-x86_64/egg' to it\n",
            "removing 'build/bdist.linux-x86_64/egg' (and everything under it)\n",
            "Processing torch_rechub-0.0.2-py3.7.egg\n",
            "Copying torch_rechub-0.0.2-py3.7.egg to /usr/local/lib/python3.7/dist-packages\n",
            "Adding torch-rechub 0.0.2 to easy-install.pth file\n",
            "\n",
            "Installed /usr/local/lib/python3.7/dist-packages/torch_rechub-0.0.2-py3.7.egg\n",
            "Processing dependencies for torch-rechub==0.0.2\n",
            "Searching for annoy==1.17.1\n",
            "Best match: annoy 1.17.1\n",
            "Adding annoy 1.17.1 to easy-install.pth file\n",
            "\n",
            "Using /usr/local/lib/python3.7/dist-packages\n",
            "Searching for scikit-learn==1.0.2\n",
            "Best match: scikit-learn 1.0.2\n",
            "Adding scikit-learn 1.0.2 to easy-install.pth file\n",
            "\n",
            "Using /usr/local/lib/python3.7/dist-packages\n",
            "Searching for tqdm==4.64.0\n",
            "Best match: tqdm 4.64.0\n",
            "Adding tqdm 4.64.0 to easy-install.pth file\n",
            "Installing tqdm script to /usr/local/bin\n",
            "\n",
            "Using /usr/local/lib/python3.7/dist-packages\n",
            "Searching for pandas==1.3.5\n",
            "Best match: pandas 1.3.5\n",
            "Adding pandas 1.3.5 to easy-install.pth file\n",
            "\n",
            "Using /usr/local/lib/python3.7/dist-packages\n",
            "Searching for torch==1.12.0+cu113\n",
            "Best match: torch 1.12.0+cu113\n",
            "Adding torch 1.12.0+cu113 to easy-install.pth file\n",
            "Installing convert-caffe2-to-onnx script to /usr/local/bin\n",
            "Installing convert-onnx-to-caffe2 script to /usr/local/bin\n",
            "Installing torchrun script to /usr/local/bin\n",
            "\n",
            "Using /usr/local/lib/python3.7/dist-packages\n",
            "Searching for numpy==1.21.6\n",
            "Best match: numpy 1.21.6\n",
            "Adding numpy 1.21.6 to easy-install.pth file\n",
            "Installing f2py script to /usr/local/bin\n",
            "Installing f2py3 script to /usr/local/bin\n",
            "Installing f2py3.7 script to /usr/local/bin\n",
            "\n",
            "Using /usr/local/lib/python3.7/dist-packages\n",
            "Searching for joblib==1.1.0\n",
            "Best match: joblib 1.1.0\n",
            "Adding joblib 1.1.0 to easy-install.pth file\n",
            "\n",
            "Using /usr/local/lib/python3.7/dist-packages\n",
            "Searching for threadpoolctl==3.1.0\n",
            "Best match: threadpoolctl 3.1.0\n",
            "Adding threadpoolctl 3.1.0 to easy-install.pth file\n",
            "\n",
            "Using /usr/local/lib/python3.7/dist-packages\n",
            "Searching for scipy==1.7.3\n",
            "Best match: scipy 1.7.3\n",
            "Adding scipy 1.7.3 to easy-install.pth file\n",
            "\n",
            "Using /usr/local/lib/python3.7/dist-packages\n",
            "Searching for pytz==2022.1\n",
            "Best match: pytz 2022.1\n",
            "Adding pytz 2022.1 to easy-install.pth file\n",
            "\n",
            "Using /usr/local/lib/python3.7/dist-packages\n",
            "Searching for python-dateutil==2.8.2\n",
            "Best match: python-dateutil 2.8.2\n",
            "Adding python-dateutil 2.8.2 to easy-install.pth file\n",
            "\n",
            "Using /usr/local/lib/python3.7/dist-packages\n",
            "Searching for typing-extensions==4.1.1\n",
            "Best match: typing-extensions 4.1.1\n",
            "Adding typing-extensions 4.1.1 to easy-install.pth file\n",
            "\n",
            "Using /usr/local/lib/python3.7/dist-packages\n",
            "Searching for six==1.15.0\n",
            "Best match: six 1.15.0\n",
            "Adding six 1.15.0 to easy-install.pth file\n",
            "\n",
            "Using /usr/local/lib/python3.7/dist-packages\n",
            "Finished processing dependencies for torch-rechub==0.0.2\n"
          ]
        }
      ]
    },
    {
      "cell_type": "markdown",
      "source": [
        "For the repeat of the experiment, we'll fix our random seed"
      ],
      "metadata": {
        "id": "RxCvhcUfN8h7"
      }
    },
    {
      "cell_type": "code",
      "source": [
        "#def setup_seed(seed):\n",
        "#  torch.manual_seed(seed)\n",
        "#  torch.cuda.manual_seed_all(seed)\n",
        "#  np.random.seed(seed)\n",
        "#  torch.backends.cudnn.deterministic = True\n",
        "\n",
        "#setup_seed(2022)"
      ],
      "metadata": {
        "id": "qcvccgcsN4C4"
      },
      "execution_count": null,
      "outputs": []
    },
    {
      "cell_type": "markdown",
      "source": [
        "## Getting ml-1m.csv"
      ],
      "metadata": {
        "id": "ISi0u2nt_VTN"
      }
    },
    {
      "cell_type": "code",
      "source": [
        "original_dir = '/content'\n",
        "os.chdir(original_dir)"
      ],
      "metadata": {
        "id": "jKcuRJeo_VTW"
      },
      "execution_count": null,
      "outputs": []
    },
    {
      "cell_type": "code",
      "source": [
        "pd.set_option('display.max_rows', 500)\n",
        "pd.set_option('display.max_columns', 500)\n",
        "pd.set_option('display.width', 1000)"
      ],
      "metadata": {
        "id": "aSCx0wdh_VTW"
      },
      "execution_count": null,
      "outputs": []
    },
    {
      "cell_type": "code",
      "source": [
        "whole_data_path_indrive = '../content/drive/MyDrive/ml-1m'\n",
        "whole_data_path_local = '../content/ml-1m/original'\n",
        "if not os.path.exists(whole_data_path_local):\n",
        "  os.makedirs(whole_data_path_local)"
      ],
      "metadata": {
        "id": "NUBhHP1g_VTW"
      },
      "execution_count": null,
      "outputs": []
    },
    {
      "cell_type": "code",
      "source": [
        "!cp  -r ../content/drive/MyDrive/ml-1m ../content/ml-1m/original"
      ],
      "metadata": {
        "id": "lrFJjPr6_VTX"
      },
      "execution_count": null,
      "outputs": []
    },
    {
      "cell_type": "code",
      "source": [
        "def GenerateWholeCSV(original_data_dir):\n",
        "  data_path = original_data_dir\n",
        "\n",
        "  unames = ['user_id','gender','age','occupation','zip']\n",
        "  user = pd.read_csv(data_path+'/ml-1m/users.dat',sep='::',header=None,names=unames, engine='python',encoding=\"ISO-8859-1\")\n",
        "  rnames = ['user_id','movie_id','rating','timestamp']\n",
        "  ratings = pd.read_csv(data_path+'/ml-1m/ratings.dat',sep='::',header=None,names=rnames, engine='python',encoding=\"ISO-8859-1\")\n",
        "  mnames = ['movie_id','title','genres']\n",
        "  movies = pd.read_csv(data_path+'/ml-1m/movies.dat',sep='::',header=None,names=mnames, engine='python',encoding=\"ISO-8859-1\")\n",
        "\n",
        "  data = pd.merge(pd.merge(ratings,movies),user)\n",
        "  data.to_csv(\"../content/ml-1m/ml-1m.csv\", index=False)\n",
        "\n",
        "GenerateWholeCSV(whole_data_path_local)"
      ],
      "metadata": {
        "id": "SOQSFp_m_VTX"
      },
      "execution_count": null,
      "outputs": []
    },
    {
      "cell_type": "code",
      "source": [
        "data_path = '/content/ml-1m/ml-1m.csv'\n",
        "data = pd.read_csv(data_path)\n",
        "print(data.head())"
      ],
      "metadata": {
        "colab": {
          "base_uri": "https://localhost:8080/"
        },
        "outputId": "1244f235-8d35-4d68-88ec-96475d42d17b",
        "id": "BqMUbcEe_VTX"
      },
      "execution_count": null,
      "outputs": [
        {
          "output_type": "stream",
          "name": "stdout",
          "text": [
            "   user_id  movie_id  rating  timestamp                                   title                        genres gender  age  occupation    zip\n",
            "0        1      1193       5  978300760  One Flew Over the Cuckoo's Nest (1975)                         Drama      F    1          10  48067\n",
            "1        1       661       3  978302109        James and the Giant Peach (1996)  Animation|Children's|Musical      F    1          10  48067\n",
            "2        1       914       3  978301968                     My Fair Lady (1964)               Musical|Romance      F    1          10  48067\n",
            "3        1      3408       4  978300275                  Erin Brockovich (2000)                         Drama      F    1          10  48067\n",
            "4        1      2355       5  978824291                    Bug's Life, A (1998)   Animation|Children's|Comedy      F    1          10  48067\n"
          ]
        }
      ]
    },
    {
      "cell_type": "code",
      "source": [
        "# for experiment, we first use sample data instead\n",
        "#data_path = '/content/torch-rechub/examples/matching/data/ml-1m/ml-1m_sample.csv'\n",
        "#data = pd.read_csv(data_path)\n",
        "#print(data.head(), '\\n', len(data))\n"
      ],
      "metadata": {
        "id": "48JyZWD_BtIe"
      },
      "execution_count": null,
      "outputs": []
    },
    {
      "cell_type": "markdown",
      "source": [
        "## Data Preporcessing"
      ],
      "metadata": {
        "id": "7wDI5cEy_pOD"
      }
    },
    {
      "cell_type": "code",
      "source": [
        "from sklearn.preprocessing import LabelEncoder\n",
        "from torch_rechub.trainers import MatchTrainer\n",
        "from torch_rechub.basic.features import SparseFeature, SequenceFeature\n",
        "from torch_rechub.utils.match import generate_seq_feature_match, gen_model_input\n",
        "from torch_rechub.utils.data import df_to_dict, MatchDataGenerator\n",
        "from torch_rechub.basic.layers import MLP, EmbeddingLayer"
      ],
      "metadata": {
        "id": "TK_tkAXZAlV6"
      },
      "execution_count": null,
      "outputs": []
    },
    {
      "cell_type": "code",
      "source": [
        "save_dir = '/content/ml-1m/rawdata/'\n",
        "if not os.path.exists(save_dir):\n",
        "  os.makedirs(save_dir)"
      ],
      "metadata": {
        "id": "ZZqm_R4TAzWT"
      },
      "execution_count": null,
      "outputs": []
    },
    {
      "cell_type": "code",
      "source": [
        "data['cate_id'] = data['genres'].apply(lambda x: x.split('|')[0])\n",
        "sparse_features = ['user_id', 'movie_id', 'gender', 'age', 'occupation', 'zip', 'cate_id']\n",
        "user_col, item_col = 'user_id', 'movie_id'"
      ],
      "metadata": {
        "id": "9VYLT-qGBIxU"
      },
      "execution_count": null,
      "outputs": []
    },
    {
      "cell_type": "code",
      "source": [
        "feature_max_idx = {} # it's a dict, describing the number of each feature\n",
        "for feature in sparse_features:\n",
        "  lbe = LabelEncoder()\n",
        "  data[feature] = lbe.fit_transform(data[feature]) + 1 # starting from 1 instead of 0\n",
        "  feature_max_idx[feature] = data[feature].max() + 1\n",
        "  if feature == user_col:\n",
        "    user_map = {encode_id + 1 : raw_id for encode_id, raw_id in enumerate(lbe.classes_)}\n",
        "  if feature == item_col:\n",
        "    item_map = {encode_id + 1 : raw_id for encode_id, raw_id in enumerate(lbe.classes_)}\n",
        "\n",
        "np.save(save_dir + 'raw_id_maps.npy', (user_map, item_map))"
      ],
      "metadata": {
        "id": "SbEliND3DCss"
      },
      "execution_count": null,
      "outputs": []
    },
    {
      "cell_type": "code",
      "source": [
        "user_cols = ['gender', 'age', 'occupation', 'zip'] #not using user_id as user_cols\n",
        "item_cols = ['movie_id', 'cate_id']\n",
        "user_profile = data[ [user_col] + user_cols].drop_duplicates(user_col) #contains all the information of users\n",
        "item_profile = data[item_cols].drop_duplicates(item_col) #contains all the information of items\n",
        "print(user_profile.head())\n",
        "print(item_profile.head())"
      ],
      "metadata": {
        "colab": {
          "base_uri": "https://localhost:8080/"
        },
        "id": "Cc6nXmqiFD5Q",
        "outputId": "6228d022-ab24-4408-d73d-6c12898ab147"
      },
      "execution_count": null,
      "outputs": [
        {
          "output_type": "stream",
          "name": "stdout",
          "text": [
            "     user_id  gender  age  occupation   zip\n",
            "0          1       1    1          11  1589\n",
            "53         2       2    7          17  2249\n",
            "182       12       2    3          13  1166\n",
            "205       15       2    3           8   905\n",
            "406       17       2    6           2  3188\n",
            "   movie_id  cate_id\n",
            "0      1105        8\n",
            "1       640        3\n",
            "2       854       12\n",
            "3      3178        8\n",
            "4      2163        3\n"
          ]
        }
      ]
    },
    {
      "cell_type": "code",
      "source": [
        "df_train, df_test = generate_seq_feature_match(data, user_col, item_col, time_col='timestamp',\n",
        "                         item_attribute_cols=[], sample_method=1, mode=2, \n",
        "                         neg_ratio=5, min_item=0) #generate the sequence feature based on timestamp\n",
        "#print(df_train.head(),'\\n',len(df_train))\n",
        "x_train = gen_model_input(df_train, user_profile, user_col, item_profile, item_col, seq_max_len=50)\n",
        "#print(x_train.keys())\n",
        "del x_train[user_col] #as prof has said, user_id is not necessary for the input data\n",
        "#print(x_train.keys())\n",
        "y_train = np.array( [0] * df_train.shape[0] ) #[pos_sample, neg_sample, neg_sample, ..., neg_sample], so the label=0  it's a multi-task classification problem\n",
        "x_test = gen_model_input(df_test, user_profile, user_col, item_profile, item_col, seq_max_len=50)\n",
        "#del x_test[user_col]\n",
        "#print(x_test.keys())"
      ],
      "metadata": {
        "colab": {
          "base_uri": "https://localhost:8080/"
        },
        "id": "ZPfAAj3tcZTr",
        "outputId": "2141bc39-d458-4d8a-940c-345d01cf413b"
      },
      "execution_count": null,
      "outputs": [
        {
          "output_type": "stream",
          "name": "stdout",
          "text": [
            "preprocess data\n"
          ]
        },
        {
          "output_type": "stream",
          "name": "stderr",
          "text": [
            "generate sequence features: 100%|██████████| 6040/6040 [00:09<00:00, 611.20it/s] \n"
          ]
        },
        {
          "output_type": "stream",
          "name": "stdout",
          "text": [
            "n_train: 988129, n_test: 6040\n",
            "0 cold start user droped \n"
          ]
        }
      ]
    },
    {
      "cell_type": "markdown",
      "source": [
        "## YDNNA Model Constructing"
      ],
      "metadata": {
        "id": "sj2QlUoGkFls"
      }
    },
    {
      "cell_type": "markdown",
      "source": [
        "Firstly, we'll get the feature dimension for embedding layer\n",
        "\n",
        "Generally, we have\n",
        "\n",
        "\n",
        "*   user_features (Sparse + Sequence)\n",
        "*   item_features (Sparse + Sequence)\n",
        "*   neg_item_features (Sequence)\n",
        "\n"
      ],
      "metadata": {
        "id": "I7Ho-aSUk7jB"
      }
    },
    {
      "cell_type": "code",
      "source": [
        "user_sparse_features = [SparseFeature(name, vocab_size=feature_max_idx[name], embed_dim=32) for name in user_cols]\n",
        "user_sequence_features = [SequenceFeature('hist_movie_id', vocab_size=feature_max_idx['movie_id'],\n",
        "                      embed_dim=32, pooling='concat', shared_with='movie_id')]\n",
        "user_features = user_sparse_features + user_sequence_features\n",
        "\n",
        "#item_sparse_features = [SparseFeature(name, vocab_size=feature_max_idx[name], embed_dim=32) for name in item_cols] data could add a column with sequence of label\n",
        "item_sparse_features = [SparseFeature('movie_id', vocab_size=feature_max_idx['movie_id'], embed_dim=32)]\n",
        "item_sequence_features = []\n",
        "item_features = item_sparse_features + item_sequence_features\n",
        "\n",
        "neg_item_features = [SequenceFeature('neg_items', vocab_size=feature_max_idx['movie_id'], embed_dim=32,\n",
        "                    pooling='concat', shared_with='movie_id')]"
      ],
      "metadata": {
        "id": "OSAGLHZgkIp9"
      },
      "execution_count": null,
      "outputs": []
    },
    {
      "cell_type": "code",
      "source": [
        "print(user_features,'\\n',item_features,'\\n',neg_item_features)\n",
        "print(len(user_features))\n",
        "#print(32*len(item_features))"
      ],
      "metadata": {
        "colab": {
          "base_uri": "https://localhost:8080/"
        },
        "id": "rmZbpstUqACg",
        "outputId": "5cf1d0d6-3496-4155-878d-b7720b01db4a"
      },
      "execution_count": null,
      "outputs": [
        {
          "output_type": "stream",
          "name": "stdout",
          "text": [
            "[<SparseFeature gender with Embedding shape (3, 32)>, <SparseFeature age with Embedding shape (8, 32)>, <SparseFeature occupation with Embedding shape (22, 32)>, <SparseFeature zip with Embedding shape (3440, 32)>, <SequenceFeature hist_movie_id with Embedding shape (3707, 32)>] \n",
            " [<SparseFeature movie_id with Embedding shape (3707, 32)>] \n",
            " [<SequenceFeature neg_items with Embedding shape (3707, 32)>]\n",
            "5\n"
          ]
        }
      ]
    },
    {
      "cell_type": "markdown",
      "source": [
        "Now, we'll build our DIN model based on YouTube DNN\n",
        "\n",
        "It means that the item tower would not inroduce MLP structure"
      ],
      "metadata": {
        "id": "o1qsgsPMtflq"
      }
    },
    {
      "cell_type": "markdown",
      "source": [
        "Now, we build the ActivationUnit first"
      ],
      "metadata": {
        "id": "CjMtFSu3NOl3"
      }
    },
    {
      "cell_type": "code",
      "source": [
        "class ActivationUnit(nn.Module):\n",
        "    \"\"\"Activation Unit Layer mentioned in DIN paper, it is a Target Attention method.\n",
        "\n",
        "    Args:\n",
        "        embed_dim (int): the length of embedding vector.\n",
        "        history (tensor):\n",
        "    Shape:\n",
        "        - Input: `(batch_size, seq_length, emb_dim)`\n",
        "        - Output: `(batch_size, emb_dim)`\n",
        "    \"\"\"\n",
        "\n",
        "    def __init__(self, emb_dim, dims=None, activation=\"dice\", use_softmax=False):\n",
        "        super(ActivationUnit, self).__init__()\n",
        "        if dims is None:\n",
        "            dims = [36] # just like the origin paper DIN`\n",
        "        self.emb_dim = emb_dim\n",
        "        self.use_softmax = use_softmax\n",
        "        self.attention = MLP(4 * self.emb_dim, dims=dims, activation=activation) # output_layer=True is default set\n",
        "\n",
        "    def forward(self, history, target):\n",
        "        seq_length = history.size(1)\n",
        "        target = target.unsqueeze(1).expand(-1, seq_length, -1)  #batch_size,seq_length,emb_dim\n",
        "        att_input = torch.cat([target, history, target - history, target * history],\n",
        "                              dim=-1)  # batch_size,seq_length,4*emb_dim[p=]\n",
        "        att_weight = self.attention(att_input.view(-1, 4 * self.emb_dim))  #  #(batch_size*seq_length,4*emb_dim)\n",
        "        att_weight = att_weight.view(-1, seq_length)  #(batch_size*seq_length, 1) -> (batch_size,seq_length)\n",
        "        if self.use_softmax:\n",
        "            att_weight = att_weight.softmax(dim=-1)\n",
        "        # (batch_size, seq_length, 1) * (batch_size, seq_length, emb_dim)\n",
        "        output = (att_weight.unsqueeze(-1) * history).sum(dim=1)  #(batch_size,emb_dim)\n",
        "        return output"
      ],
      "metadata": {
        "id": "6C55f5IOte3r"
      },
      "execution_count": null,
      "outputs": []
    },
    {
      "cell_type": "markdown",
      "source": [
        "Then, we could have our YDNNA model"
      ],
      "metadata": {
        "id": "LeomaUebN10D"
      }
    },
    {
      "cell_type": "code",
      "source": [
        "class YDNNA(torch.nn.Module):\n",
        "    \"\"\"\n",
        "    It's a model modified from YouTube DNN, which adds attention mechanism in it\n",
        "    It's a DSSM match model trained by global softmax loss on list-wise samples.\n",
        "    Note in origin paper, it's without item dnn tower and train item embedding directly.\n",
        "\n",
        "    Args:\n",
        "        user_features (list[Feature Class]): training by the user tower module.\n",
        "        item_features (list[Feature Class]): training by the embedding table, it's the item id feature.\n",
        "        neg_item_feature (list[Feature Class]): training by the embedding table, it's the negative items id feature.\n",
        "        user_params (dict): the params of the User Tower module, keys include:`{\"dims\":list, \"activation\":str, \"dropout\":float, \"output_layer\":bool`}.\n",
        "        attention_mlp_params (dict): the params of the attention MLP structure, keys include:`{\"dims\":list, \"activation\":str, \"dropout\":float, \"output_layer\":bool`}\n",
        "        temperature (float): temperature factor for similarity score, default to 1.0.\n",
        "    \"\"\"\n",
        "\n",
        "    def __init__(self, user_features, item_features, neg_item_feature, user_params, attention_mlp_params={\"dims\": [256, 128]}, temperature=1.0):\n",
        "        super().__init__()\n",
        "        self.user_features = user_features\n",
        "        self.item_features = item_features\n",
        "        self.neg_item_feature = neg_item_feature\n",
        "\n",
        "        self.user_sequence_features = []\n",
        "        self.user_sparse_features = []\n",
        "        for fea in user_features:\n",
        "          if isinstance(fea, SequenceFeature):\n",
        "            self.user_sequence_features.append(fea)\n",
        "          if isinstance(fea, SparseFeature):\n",
        "            self.user_sparse_features.append(fea)\n",
        "        #for fea in item_features: # as for now, we don't have any data of it\n",
        "        #  if isinstance(fea, SequenceFeature):\n",
        "        #    self.item_sequence_features += fea\n",
        "        self.num_sequence_features = len(self.user_sequence_features)\n",
        "        self.num_sparse_features = len(self.user_sparse_features)\n",
        "\n",
        "        self.temperature = temperature\n",
        "        self.user_dims = sum([fea.embed_dim for fea in user_features]) #for MLP input dimension\n",
        "        self.embedding = EmbeddingLayer(user_features + item_features)\n",
        "\n",
        "        self.attention_layers = nn.ModuleList([ActivationUnit(fea.embed_dim, **attention_mlp_params) for fea in self.user_sequence_features])\n",
        "\n",
        "        self.user_mlp = MLP(self.user_dims, output_layer=False, **user_params, activation='dice',)\n",
        "        self.mode = None\n",
        "\n",
        "    def forward(self, x):\n",
        "        user_embedding = self.user_tower(x)\n",
        "        item_embedding = self.item_tower(x)\n",
        "        if self.mode == \"user\":\n",
        "            return user_embedding\n",
        "        if self.mode == \"item\":\n",
        "            return item_embedding\n",
        "\n",
        "        # calculate cosine score\n",
        "        y = torch.mul(user_embedding, item_embedding).sum(dim=2)\n",
        "        y = y / self.temperature\n",
        "        return y\n",
        "\n",
        "    def user_tower(self, x):\n",
        "        if self.mode == \"item\":\n",
        "            return None\n",
        "#------------------------------\n",
        "#attention mechanism\n",
        "        user_sparse_embedding = self.embedding(x, self.user_sparse_features)\n",
        "        user_sequence_embedding = self.embedding(x, self.user_sequence_features)\n",
        "        pos_item_embedding = self.embedding(x, self.item_features)\n",
        "        pos_item_embedding = F.normalize(pos_item_embedding, p=2, dim=2)\n",
        "        attention_pooling = []\n",
        "        for i in range(self.num_sequence_features):\n",
        "          attention_seq = self.attention_layers[i](user_sequence_embedding[:, i, :, :], pos_item_embedding[:, i, :])\n",
        "          attention_pooling.append(attention_seq.unsqueeze(1)) #(batch_size, 1, emb_dim)\n",
        "        attention_pooling = torch.cat(attention_pooling, dim=1) #(batch_size, num_sequence_features, emb_dim)\n",
        "        input_user = torch.cat([user_sparse_embedding.flatten(start_dim=1), attention_pooling.flatten(start_dim=1)], dim=1) #(batch_size, N)\n",
        "#------------------------------\n",
        "        #input_user = self.embedding(x, self.user_features, squeeze_dim=True)  #[batch_size, num_features*deep_dims]\n",
        "        user_embedding = self.user_mlp(input_user).unsqueeze(1)  #[batch_size, 1, embed_dim]\n",
        "        user_embedding = F.normalize(user_embedding, p=2, dim=2)\n",
        "        if self.mode == \"user\":\n",
        "            return user_embedding.squeeze(1)  #inference embedding mode -> [batch_size, embed_dim]\n",
        "        return user_embedding\n",
        "\n",
        "    def item_tower(self, x):\n",
        "        if self.mode == \"user\":\n",
        "            return None\n",
        "        pos_embedding = self.embedding(x, self.item_features, squeeze_dim=False)  #[batch_size, 1, embed_dim]\n",
        "        pos_embedding = F.normalize(pos_embedding, p=2, dim=2)\n",
        "        #pos_embedding = pos_embedding.flatten(start_dim=1)\n",
        "        #pos_embedding = pos_embedding.unsqueeze(dim=1)\n",
        "        pos_embedding = pos_embedding.mean(dim=1)\n",
        "        pos_embedding = pos_embedding.unsqueeze(dim=1)\n",
        "        #print(pos_embedding.size())\n",
        "        if self.mode == \"item\":  #inference embedding mode\n",
        "            return pos_embedding.squeeze(1)  #[batch_size, embed_dim]\n",
        "        neg_embeddings = self.embedding(x, self.neg_item_feature,\n",
        "                                        squeeze_dim=False).squeeze(1)  #[batch_size, n_neg_items, embed_dim]\n",
        "        neg_embeddings = F.normalize(neg_embeddings, p=2, dim=2)\n",
        "        #print('neg:', neg_embeddings.size())\n",
        "        return torch.cat((pos_embedding, neg_embeddings), dim=1)  #[batch_size, 1+n_neg_items, embed_dim]"
      ],
      "metadata": {
        "id": "jS1HUCSuOMR2"
      },
      "execution_count": null,
      "outputs": []
    },
    {
      "cell_type": "markdown",
      "source": [
        "## Training"
      ],
      "metadata": {
        "id": "MxsQ354y45sf"
      }
    },
    {
      "cell_type": "code",
      "source": [
        "import collections\n",
        "import numpy as np\n",
        "import pandas as pd\n",
        "from torch_rechub.utils.match import Annoy\n",
        "from torch_rechub.basic.metric import topk_metrics\n",
        "from collections import Counter\n",
        "\n",
        "\n",
        "def match_evaluation(user_embedding, item_embedding, test_user, all_item, user_col='user_id', item_col='movie_id',\n",
        "                     raw_id_maps=\"./data/ml-1m/saved/raw_id_maps.npy\", topk=10):\n",
        "    print(\"evaluate embedding matching on test data\")\n",
        "    annoy = Annoy(n_trees=10)\n",
        "    annoy.fit(item_embedding)\n",
        "\n",
        "    #for each user of test dataset, get ann search topk result\n",
        "    print(\"matching for topk\")\n",
        "    user_map, item_map = np.load(raw_id_maps, allow_pickle=True)\n",
        "    match_res = collections.defaultdict(dict)  # user id -> predicted item ids\n",
        "    for user_id, user_emb in zip(test_user[user_col], user_embedding):\n",
        "        if len(user_emb.shape)==2:\n",
        "            #多兴趣召回\n",
        "            items_idx = []\n",
        "            items_scores = []\n",
        "            for i in range(user_emb.shape[0]):\n",
        "                temp_items_idx, temp_items_scores = annoy.query(v=user_emb[i], n=topk)  # the index of topk match items\n",
        "                items_idx += temp_items_idx\n",
        "                items_scores += temp_items_scores\n",
        "            temp_df = pd.DataFrame()\n",
        "            temp_df['item'] = items_idx\n",
        "            temp_df['score'] = items_scores\n",
        "            temp_df = temp_df.sort_values(by='score', ascending=True)\n",
        "            temp_df = temp_df.drop_duplicates(subset=['item'], keep='first', inplace=False)\n",
        "            recall_item_list = temp_df['item'][:topk].values\n",
        "            match_res[user_map[user_id]] = np.vectorize(item_map.get)(all_item[item_col][recall_item_list])\n",
        "        else:\n",
        "            #普通召回\n",
        "            items_idx, items_scores = annoy.query(v=user_emb, n=topk)  #the index of topk match items\n",
        "            match_res[user_map[user_id]] = np.vectorize(item_map.get)(all_item[item_col][items_idx])\n",
        "\n",
        "    #get ground truth\n",
        "    print(\"generate ground truth\")\n",
        "\n",
        "    data = pd.DataFrame({user_col: test_user[user_col], item_col: test_user[item_col]})\n",
        "    data[user_col] = data[user_col].map(user_map)\n",
        "    data[item_col] = data[item_col].map(item_map)\n",
        "    user_pos_item = data.groupby(user_col).agg(list).reset_index()\n",
        "    ground_truth = dict(zip(user_pos_item[user_col], user_pos_item[item_col]))  # user id -> ground truth\n",
        "\n",
        "    print(\"compute topk metrics\")\n",
        "    out = topk_metrics(y_true=ground_truth, y_pred=match_res, topKs=[topk])\n",
        "    print(out)\n",
        "    return out, match_res, ground_truth"
      ],
      "metadata": {
        "id": "OYhS6wqwoliB"
      },
      "execution_count": null,
      "outputs": []
    },
    {
      "cell_type": "code",
      "source": [
        "all_item = df_to_dict(item_profile)\n",
        "test_user = x_test\n",
        "\n",
        "dg = MatchDataGenerator(x=x_train, y=y_train) #This dataloader class can be optimized better; it's not understandable and convenient enough\n",
        "train_dl, test_dl, item_dl = dg.generate_dataloader(test_user, all_item, batch_size=256, num_workers=2)\n",
        "\n",
        "model = YDNNA(user_features, item_features, neg_item_features, user_params={\"dims\": [128, 256, 128, 64, 32]}, attention_mlp_params={\"dims\": [256, 128]}, temperature=0.02) # it's not defined yet\n",
        "\n",
        "trainer = MatchTrainer(model, mode=2, optimizer_params={'lr': 1e-4, 'weight_decay': 1e-6},\n",
        "             n_epoch=10, device='cuda:0', model_path=save_dir)\n",
        "trainer.fit(train_dl)\n",
        "\n",
        "print('inference embedding')\n",
        "user_embedding = trainer.inference_embedding(model=model, mode='user', data_loader=test_dl, model_path=save_dir)\n",
        "item_embedding = trainer.inference_embedding(model=model, mode='item', data_loader=item_dl, model_path=save_dir)"
      ],
      "metadata": {
        "id": "MvwTNV5Xq57X",
        "colab": {
          "base_uri": "https://localhost:8080/"
        },
        "outputId": "4260cbf6-30d6-49fc-d912-83c54fdee1d9"
      },
      "execution_count": null,
      "outputs": [
        {
          "output_type": "stream",
          "name": "stdout",
          "text": [
            "epoch: 0\n"
          ]
        },
        {
          "output_type": "stream",
          "name": "stderr",
          "text": [
            "train: 100%|██████████| 3860/3860 [01:56<00:00, 33.04it/s, loss=0.279]\n"
          ]
        },
        {
          "output_type": "stream",
          "name": "stdout",
          "text": [
            "epoch: 1\n"
          ]
        },
        {
          "output_type": "stream",
          "name": "stderr",
          "text": [
            "train: 100%|██████████| 3860/3860 [01:53<00:00, 34.06it/s, loss=0.222]\n"
          ]
        },
        {
          "output_type": "stream",
          "name": "stdout",
          "text": [
            "epoch: 2\n"
          ]
        },
        {
          "output_type": "stream",
          "name": "stderr",
          "text": [
            "train: 100%|██████████| 3860/3860 [01:52<00:00, 34.18it/s, loss=0.15]\n"
          ]
        },
        {
          "output_type": "stream",
          "name": "stdout",
          "text": [
            "epoch: 3\n"
          ]
        },
        {
          "output_type": "stream",
          "name": "stderr",
          "text": [
            "train: 100%|██████████| 3860/3860 [01:59<00:00, 32.25it/s, loss=0.0978]\n"
          ]
        },
        {
          "output_type": "stream",
          "name": "stdout",
          "text": [
            "epoch: 4\n"
          ]
        },
        {
          "output_type": "stream",
          "name": "stderr",
          "text": [
            "train: 100%|██████████| 3860/3860 [01:54<00:00, 33.72it/s, loss=0.0797]\n"
          ]
        },
        {
          "output_type": "stream",
          "name": "stdout",
          "text": [
            "epoch: 5\n"
          ]
        },
        {
          "output_type": "stream",
          "name": "stderr",
          "text": [
            "train: 100%|██████████| 3860/3860 [01:52<00:00, 34.37it/s, loss=0.0541]\n"
          ]
        },
        {
          "output_type": "stream",
          "name": "stdout",
          "text": [
            "epoch: 6\n"
          ]
        },
        {
          "output_type": "stream",
          "name": "stderr",
          "text": [
            "train: 100%|██████████| 3860/3860 [01:52<00:00, 34.42it/s, loss=0.0502]\n"
          ]
        },
        {
          "output_type": "stream",
          "name": "stdout",
          "text": [
            "epoch: 7\n"
          ]
        },
        {
          "output_type": "stream",
          "name": "stderr",
          "text": [
            "train: 100%|██████████| 3860/3860 [01:51<00:00, 34.49it/s, loss=0.0345]\n"
          ]
        },
        {
          "output_type": "stream",
          "name": "stdout",
          "text": [
            "epoch: 8\n"
          ]
        },
        {
          "output_type": "stream",
          "name": "stderr",
          "text": [
            "train: 100%|██████████| 3860/3860 [01:51<00:00, 34.53it/s, loss=0.025]\n"
          ]
        },
        {
          "output_type": "stream",
          "name": "stdout",
          "text": [
            "epoch: 9\n"
          ]
        },
        {
          "output_type": "stream",
          "name": "stderr",
          "text": [
            "train: 100%|██████████| 3860/3860 [01:56<00:00, 33.00it/s, loss=0.0191]\n"
          ]
        },
        {
          "output_type": "stream",
          "name": "stdout",
          "text": [
            "inference embedding\n"
          ]
        },
        {
          "output_type": "stream",
          "name": "stderr",
          "text": [
            "user inference: 100%|██████████| 24/24 [00:00<00:00, 55.50it/s]\n",
            "item inference: 100%|██████████| 15/15 [00:00<00:00, 83.65it/s]\n"
          ]
        }
      ]
    },
    {
      "cell_type": "code",
      "source": [
        "metric_dict, y_pred, y_truth = match_evaluation(user_embedding, item_embedding, test_user, all_item, topk=10, raw_id_maps=save_dir+\"raw_id_maps.npy\")"
      ],
      "metadata": {
        "id": "-vMZELe0WgHp",
        "colab": {
          "base_uri": "https://localhost:8080/"
        },
        "outputId": "6caff4a3-0335-4fe1-b94a-4ee5a6fe9e14"
      },
      "execution_count": null,
      "outputs": [
        {
          "output_type": "stream",
          "name": "stdout",
          "text": [
            "evaluate embedding matching on test data\n",
            "matching for topk\n",
            "generate ground truth\n",
            "compute topk metrics\n",
            "defaultdict(<class 'list'>, {'NDCG': ['NDCG@10: 0.1061'], 'MRR': ['MRR@10: 0.3953'], 'Recall': ['Recall@10: 0.7606'], 'Hit': ['Hit@10: 0.7606'], 'Precision': ['Precision@10: 0.0761']})\n"
          ]
        }
      ]
    },
    {
      "cell_type": "code",
      "source": [
        "#metric_dict_1 = match_evaluation(user_embedding, item_embedding, test_user, all_item, topk=100, raw_id_maps=save_dir+\"raw_id_maps.npy\")\n",
        "#metric_dict_2 = match_evaluation(user_embedding, item_embedding, test_user, all_item, topk=50, raw_id_maps=save_dir+\"raw_id_maps.npy\")\n",
        "#metric_dict_3 = match_evaluation(user_embedding, item_embedding, test_user, all_item, topk=10, raw_id_maps=save_dir+\"raw_id_maps.npy\")\n",
        "#metric_dict_4 = match_evaluation(user_embedding, item_embedding, test_user, all_item, topk=5, raw_id_maps=save_dir+\"raw_id_maps.npy\")\n",
        "metric_dict_5, y_predict_3, y_truth_3 = match_evaluation(user_embedding, item_embedding, test_user, all_item, topk=3, raw_id_maps=save_dir+\"raw_id_maps.npy\")\n",
        "#print(metric_dict_1,'\\n','------------------',metric_dict_2,'\\n','------------------','\\n',metric_dict_3,'\\n','------------------','\\n',metric_dict_4,'\\n','------------------','\\n',metric_dict_5)"
      ],
      "metadata": {
        "id": "3WILdIAsfHim",
        "colab": {
          "base_uri": "https://localhost:8080/"
        },
        "outputId": "2c832e47-b72d-4748-f541-e6ee0bde6437"
      },
      "execution_count": null,
      "outputs": [
        {
          "output_type": "stream",
          "name": "stdout",
          "text": [
            "evaluate embedding matching on test data\n",
            "matching for topk\n",
            "generate ground truth\n",
            "compute topk metrics\n",
            "defaultdict(<class 'list'>, {'NDCG': ['NDCG@3: 0.1715'], 'MRR': ['MRR@3: 0.3342'], 'Recall': ['Recall@3: 0.456'], 'Hit': ['Hit@3: 0.456'], 'Precision': ['Precision@3: 0.152']})\n"
          ]
        }
      ]
    },
    {
      "cell_type": "markdown",
      "source": [
        "## Ground Truth\n"
      ],
      "metadata": {
        "id": "rL5g0VJXtNKP"
      }
    },
    {
      "cell_type": "code",
      "source": [
        "y_pred[1], y_truth[1]"
      ],
      "metadata": {
        "colab": {
          "base_uri": "https://localhost:8080/"
        },
        "id": "WLGwjWDjtPXT",
        "outputId": "50b88429-c53d-4b61-e765-9b60db65c6a0"
      },
      "execution_count": null,
      "outputs": [
        {
          "output_type": "execute_result",
          "data": {
            "text/plain": [
              "(array([  69, 2622,   48, 3310,  112, 2763, 3275, 2482, 2625,  359]), [48])"
            ]
          },
          "metadata": {},
          "execution_count": 32
        }
      ]
    },
    {
      "cell_type": "code",
      "source": [
        "y_predict_3[2], y_truth_3[2]"
      ],
      "metadata": {
        "colab": {
          "base_uri": "https://localhost:8080/"
        },
        "id": "eH-ix5wsu3H0",
        "outputId": "355cb526-baaa-445c-c8d2-c6eeb7f46154"
      },
      "execution_count": null,
      "outputs": [
        {
          "output_type": "execute_result",
          "data": {
            "text/plain": [
              "(array([ 362, 1687, 2568]), [1687])"
            ]
          },
          "metadata": {},
          "execution_count": 36
        }
      ]
    },
    {
      "cell_type": "markdown",
      "source": [
        "## Loss Comparison"
      ],
      "metadata": {
        "id": "zqVQ4qdrM6jq"
      }
    },
    {
      "cell_type": "code",
      "source": [
        "loss_attention = [0.485, 0.314, 0.185, 0.115, 0.0649, 0.0504, 0.0465, 0.0333, 0.0261, 0.0215]\n",
        "loss_original = [2.05, 1.57, 1.39, 1.32, 1.14, 1.13, 1.07, 1.06, 1.02, 0.987]"
      ],
      "metadata": {
        "id": "d_jhTz81M8Rk"
      },
      "execution_count": null,
      "outputs": []
    },
    {
      "cell_type": "code",
      "source": [
        "'''\n",
        "import matplotlib.pyplot as plt\n",
        "import numpy as np\n",
        "plt.figure(figsize=(10, 8))\n",
        "fig, ax = plt.subplots()\n",
        "x = np.arange(1, 11)\n",
        "ax.plot(x, loss_attention, label='YDNNA')\n",
        "ax.plot(x, loss_original, label='YouTubeDNN')\n",
        "ax.set_xlabel('Epoch')\n",
        "ax.set_xlim(1, 10)\n",
        "ax.set_ylabel('Loss')\n",
        "ax.set_title('Loss Comparison')\n",
        "ax.legend()\n",
        "plt.savefig('Loss Comparison')\n",
        "plt.show()\n",
        "'''"
      ],
      "metadata": {
        "colab": {
          "base_uri": "https://localhost:8080/",
          "height": 71
        },
        "id": "gB-UWNpdNctS",
        "outputId": "835de08c-81d1-4944-b9ba-243fa984aa0d"
      },
      "execution_count": null,
      "outputs": [
        {
          "output_type": "execute_result",
          "data": {
            "text/plain": [
              "\"\\nimport matplotlib.pyplot as plt\\nimport numpy as np\\nplt.figure(figsize=(10, 8))\\nfig, ax = plt.subplots()\\nx = np.arange(1, 11)\\nax.plot(x, loss_attention, label='YDNNA')\\nax.plot(x, loss_original, label='YouTubeDNN')\\nax.set_xlabel('Epoch')\\nax.set_xlim(1, 10)\\nax.set_ylabel('Loss')\\nax.set_title('Loss Comparison')\\nax.legend()\\nplt.savefig('Loss Comparison')\\nplt.show()\\n\""
            ],
            "application/vnd.google.colaboratory.intrinsic+json": {
              "type": "string"
            }
          },
          "metadata": {},
          "execution_count": 27
        }
      ]
    },
    {
      "cell_type": "markdown",
      "source": [
        "# Rough Poster\n"
      ],
      "metadata": {
        "id": "KltBFwDEZium"
      }
    },
    {
      "cell_type": "markdown",
      "source": [
        "## YouTubeDNN Loss"
      ],
      "metadata": {
        "id": "IO5alU86Zp_Z"
      }
    },
    {
      "cell_type": "code",
      "source": [
        "import numpy as np\n",
        "YDNN_loss_1 = [1.98, 1.54, 1.4, 1.24, 1.18, 1.06, 1.01, 1.04, 0.955, 0.965]\n",
        "YDNN_loss_2 = [1.97, 1.6, 1.37, 1.2, 1.15, 1.04, 1.04, 1.01, 0.992, 0.957]\n",
        "YDNN_loss_3 = [1.97, 1.6, 1.37, 1.2, 1.15, 1.04, 1.04, 1.01, 0.992, 0.957]\n",
        "YDNN_loss_4 = [2.13, 1.68, 1.42, 1.3, 1.18, 1.15, 1.07, 1.03, 1.03, 0.981]\n",
        "YDNN_loss_5 = [2.04, 1.64, 1.39, 1.3, 1.2, 1.16, 1.06, 1.06, 1.04, 1.03]\n",
        "YDNN_avg_loss = [YDNN_loss_1, YDNN_loss_2, YDNN_loss_3, YDNN_loss_4, YDNN_loss_5]\n",
        "YDNN_avg_loss = list(np.mean(YDNN_avg_loss, axis=0))\n",
        "YDNN_avg_loss"
      ],
      "metadata": {
        "colab": {
          "base_uri": "https://localhost:8080/"
        },
        "id": "8wcEntx4Zkcm",
        "outputId": "07dc75d4-3ed9-4bb5-e678-6b4915054a64"
      },
      "execution_count": null,
      "outputs": [
        {
          "output_type": "execute_result",
          "data": {
            "text/plain": [
              "[2.018,\n",
              " 1.612,\n",
              " 1.3900000000000001,\n",
              " 1.2479999999999998,\n",
              " 1.1720000000000002,\n",
              " 1.09,\n",
              " 1.044,\n",
              " 1.03,\n",
              " 1.0018,\n",
              " 0.978]"
            ]
          },
          "metadata": {},
          "execution_count": 1
        }
      ]
    },
    {
      "cell_type": "markdown",
      "source": [
        "## YouTubeDNN Metrics"
      ],
      "metadata": {
        "id": "mtWTvgDtbJTS"
      }
    },
    {
      "cell_type": "code",
      "source": [
        "import numpy as np\n",
        "# [3, 5, 10, 50, 100]\n",
        "YDNN_metric_recall_1 = [0.0068, 0.0119, 0.0283, 0.1318, 0.23]\n",
        "YDNN_metric_recall_2 = [0.0113, 0.0156, 0.0334, 0.1387, 0.2435]\n",
        "YDNN_metric_recall_3 = [0.0113, 0.0156, 0.0334, 0.1387, 0.243]\n",
        "YDNN_metric_recall_4 = [0.0137, 0.019, 0.0326, 0.1409, 0.2427]\n",
        "YDNN_metric_recall_5 = [0.0131, 0.0209, 0.0368, 0.1517, 0.2566]\n",
        "\n",
        "YDNN_avg_recall = [YDNN_metric_recall_1, YDNN_metric_recall_2, YDNN_metric_recall_3, YDNN_metric_recall_4, YDNN_metric_recall_5]\n",
        "YDNN_avg_recall = list( np.round(np.mean(YDNN_avg_recall, axis=0), 5) )\n",
        "print(YDNN_avg_recall)\n",
        "\n",
        "#------------------------------------------------------------------------------\n",
        "YDNN_metric_precision_1 = [0.0023, 0.0024, 0.0028, 0.0026, 0.0023]\n",
        "YDNN_metric_precision_2 = [0.0038, 0.0031, 0.0033, 0.0028, 0.0024]\n",
        "YDNN_metric_precision_3 = [0.0038, 0.0031, 0.0033, 0.0028, 0.0024]\n",
        "YDNN_metric_precision_4 = [0.0046, 0.0038, 0.0033, 0.0028, 0.0024]\n",
        "YDNN_metric_precision_5 = [0.0044, 0.0042, 0.0037, 0.003, 0.0026]\n",
        "YDNN_avg_precision = [YDNN_metric_precision_1, YDNN_metric_precision_2, YDNN_metric_precision_3, YDNN_metric_precision_4, YDNN_metric_precision_5]\n",
        "YDNN_avg_precision = list( np.round(np.mean(YDNN_avg_precision, axis=0), 5) )\n",
        "print(YDNN_avg_precision) "
      ],
      "metadata": {
        "colab": {
          "base_uri": "https://localhost:8080/"
        },
        "id": "Jdmp6LFFbLyl",
        "outputId": "b4bec00a-1f11-41f8-8af8-88583b98c465"
      },
      "execution_count": null,
      "outputs": [
        {
          "output_type": "stream",
          "name": "stdout",
          "text": [
            "[0.01124, 0.0166, 0.0329, 0.14036, 0.24316]\n",
            "[0.00378, 0.00332, 0.00328, 0.0028, 0.00242]\n"
          ]
        }
      ]
    },
    {
      "cell_type": "markdown",
      "source": [
        "## YDNNA Loss"
      ],
      "metadata": {
        "id": "aom7tc59da2X"
      }
    },
    {
      "cell_type": "code",
      "source": [
        "import numpy as np\n",
        "YDNNA_loss_1 = [0.331, 0.225, 0.171, 0.147, 0.106, 0.0934, 0.0514, 0.0333, 0.0323, 0.0163]\n",
        "YDNNA_loss_2 = [0.331, 0.192, 0.175, 0.121, 0.0924, 0.0859, 0.0368, 0.0209, 0.0162, 0.0164]\n",
        "YDNNA_loss_3 = [0.463, 0.314, 0.226, 0.176, 0.175, 0.126, 0.111, 0.0977, 0.0702, 0.0759]\n",
        "YDNNA_loss_4 = [0.443, 0.147, 0.0549, 0.0665, 0.0389, 0.0318, 0.0254, 0.0213, 0.0325, 0.0117]\n",
        "YDNNA_loss_5 = [0.424, 0.3, 0.219, 0.166, 0.152, 0.101, 0.0791, 0.0537, 0.0423, 0.0397]\n",
        "YDNNA_avg_loss = [YDNNA_loss_1, YDNNA_loss_2, YDNNA_loss_3, YDNNA_loss_4, YDNNA_loss_5]\n",
        "YDNNA_avg_loss = list( np.round(np.mean(YDNNA_avg_loss, axis=0), 5) )\n",
        "YDNNA_avg_loss"
      ],
      "metadata": {
        "colab": {
          "base_uri": "https://localhost:8080/"
        },
        "id": "xDT47ZVkdci8",
        "outputId": "a6a3ecd3-7d9f-4bda-8256-903824da69ce"
      },
      "execution_count": null,
      "outputs": [
        {
          "output_type": "execute_result",
          "data": {
            "text/plain": [
              "[0.3984,\n",
              " 0.2356,\n",
              " 0.16918,\n",
              " 0.1353,\n",
              " 0.11286,\n",
              " 0.08762,\n",
              " 0.06074,\n",
              " 0.04538,\n",
              " 0.0387,\n",
              " 0.032]"
            ]
          },
          "metadata": {},
          "execution_count": 3
        }
      ]
    },
    {
      "cell_type": "markdown",
      "source": [
        "## YDNNA Metrics\n"
      ],
      "metadata": {
        "id": "x1CmiZ7FedZx"
      }
    },
    {
      "cell_type": "code",
      "source": [
        "import numpy as np\n",
        "# [3, 5, 10, 50, 100]\n",
        "YDNNA_metric_recall_1 = [0.4859, 0.5975, 0.7621, 0.9649, 0.9916]\n",
        "YDNNA_metric_recall_2 = [0.5811, 0.6952, 0.8258, 0.9801, 0.9965]\n",
        "YDNNA_metric_recall_3 = [0.1838, 0.2717, 0.4199, 0.8212, 0.927]\n",
        "YDNNA_metric_recall_4 = [0.6429, 0.7329, 0.8512, 0.9831, 0.9975]\n",
        "YDNNA_metric_recall_5 = [0.4483, 0.557, 0.7106, 0.9493, 0.9833]\n",
        "\n",
        "YDNNA_avg_recall = [YDNNA_metric_recall_1, YDNNA_metric_recall_2, YDNNA_metric_recall_3, YDNNA_metric_recall_4, YDNNA_metric_recall_5]\n",
        "YDNNA_avg_recall = list( np.round(np.mean(YDNNA_avg_recall, axis=0), 5) )\n",
        "print(YDNNA_avg_recall)\n",
        "\n",
        "#------------------------------------------------------------------------------\n",
        "YDNNA_metric_precision_1 = [0.162, 0.1195, 0.0762, 0.0193, 0.0099]\n",
        "YDNNA_metric_precision_2 = [0.1937, 0.139, 0.0826, 0.0196, 0.01]\n",
        "YDNNA_metric_precision_3 = [0.0613, 0.0543, 0.042, 0.0164, 0.0093]\n",
        "YDNNA_metric_precision_4 = [0.2143, 0.1466, 0.0851, 0.0197, 0.01]\n",
        "YDNNA_metric_precision_5 = [0.1494, 0.114, 0.0711, 0.019, 0.0098]\n",
        "\n",
        "YDNNA_avg_precision = [YDNNA_metric_precision_1, YDNNA_metric_precision_2, YDNNA_metric_precision_3, YDNNA_metric_precision_4, YDNNA_metric_precision_5]\n",
        "YDNNA_avg_precision = list( np.round(np.mean(YDNNA_avg_precision, axis=0), 5) )\n",
        "print(YDNNA_avg_precision) "
      ],
      "metadata": {
        "colab": {
          "base_uri": "https://localhost:8080/"
        },
        "id": "1U5fYUyeefCi",
        "outputId": "20dc6616-0798-423b-aa84-1589098d1bd2"
      },
      "execution_count": null,
      "outputs": [
        {
          "output_type": "stream",
          "name": "stdout",
          "text": [
            "[0.4684, 0.57086, 0.71392, 0.93972, 0.97918]\n",
            "[0.15614, 0.11468, 0.0714, 0.0188, 0.0098]\n"
          ]
        }
      ]
    },
    {
      "cell_type": "markdown",
      "source": [
        "## Plot"
      ],
      "metadata": {
        "id": "Hd3np0sHfsxB"
      }
    },
    {
      "cell_type": "code",
      "source": [
        "import matplotlib.pyplot as plt\n",
        "import numpy as np\n",
        "from scipy.interpolate import make_interp_spline\n",
        "x = np.arange(10) + 1\n",
        "xs=np.linspace(1,10,500)\n",
        "\n",
        "make_interp_spline_1 = make_interp_spline(x,YDNN_avg_loss)\n",
        "YDNN_avg_loss_smooth = make_interp_spline_1(xs)\n",
        "\n",
        "make_interp_spline_2 = make_interp_spline(x,YDNNA_avg_loss)\n",
        "YDNNA_avg_loss_smooth = make_interp_spline_2(xs)"
      ],
      "metadata": {
        "id": "UTNkALhhidLs"
      },
      "execution_count": null,
      "outputs": []
    },
    {
      "cell_type": "code",
      "source": [
        "import matplotlib.pyplot as plt\n",
        "import numpy as np\n",
        "plt.figure(figsize=(18, 12))\n",
        "\n",
        "plt.plot(xs, YDNN_avg_loss_smooth, label='YDNN', linewidth=8)\n",
        "plt.plot(xs, YDNNA_avg_loss_smooth, label='YDNNA', linewidth=8)\n",
        "plt.title(\"Loss Comparison\",fontsize=50)\n",
        "plt.xlabel(\"Epoch\",fontsize=50)\n",
        "plt.ylabel(\"Training Loss\",fontsize=50)\n",
        "plt.xticks(size = 50)\n",
        "plt.yticks(size = 50)\n",
        "plt.legend(prop={'size':50})\n",
        "plt.savefig('Loss Comparison.png', dpi=300)\n",
        "plt.show()\n",
        "#"
      ],
      "metadata": {
        "colab": {
          "base_uri": "https://localhost:8080/",
          "height": 838
        },
        "id": "ocYZWu5YfsJL",
        "outputId": "8fcedcee-6d66-4325-a08f-143add55f62b"
      },
      "execution_count": null,
      "outputs": [
        {
          "output_type": "display_data",
          "data": {
            "text/plain": [
              "<Figure size 1296x864 with 1 Axes>"
            ],
            "image/png": "[encoded data removed]"
          },
          "metadata": {
            "needs_background": "light"
          }
        }
      ]
    },
    {
      "cell_type": "code",
      "source": [
        "import  matplotlib.pyplot as plt\n",
        "import numpy as np \n",
        "\n",
        "plt.rcParams['axes.unicode_minus']=False \n",
        "\n",
        "x=[1, 2, 3, 4, 5]                    #虚假的x值，用来等间距分割\n",
        "x_index=['3','5','10','50','100']  # x 轴显示的刻度\n",
        "#x=np.array([3, 5, 10, 50, 100])\n",
        "y1, y2 = YDNN_avg_recall, YDNNA_avg_recall\n",
        "y3, y4 = YDNN_avg_precision, YDNNA_avg_precision\n",
        "plt.figure(figsize=(20, 12))\n",
        "plt.figure(1)\n",
        "plt.subplots_adjust(left=None, bottom=None, right=None, top=None, wspace=0.5, hspace=None)\n",
        "ax1 = plt.subplot(1, 2, 1)\n",
        "ax1.plot(x, y1, color=\"r\",linestyle = \"--\", label='YDNN', linewidth=8.0)\n",
        "ax1.plot(x, y2,color=\"y\", linestyle = \"--\", label='YDNNA', linewidth=8.0)\n",
        "_ = plt.xticks(x,x_index)           # 显示坐标字\n",
        "ax1.set_xlabel('TopK', fontsize=50)\n",
        "ax1.set_ylabel('Recall', fontsize=50)\n",
        "plt.xticks(size = 50)\n",
        "plt.yticks(size = 50)\n",
        "plt.legend(prop={'size':30})\n",
        "plt.title('Recall', fontsize=50)\n",
        "\n",
        "\n",
        "\n",
        "ax2 = plt.subplot(1, 2, 2)\n",
        "ax2.plot(x, y3,color=\"r\", linestyle = \"-\", label='YDNN', linewidth=8.0)\n",
        "ax2.plot(x, y4,color=\"y\", linestyle = \"-\", label='YDNNA', linewidth=8.0)\n",
        "_ = plt.xticks(x,x_index)           # 显示坐标字\n",
        "ax2.set_xlabel('TopK', fontsize=50)\n",
        "ax2.set_ylabel('Precision', fontsize=50)\n",
        "plt.xticks(size = 50)\n",
        "plt.yticks(size = 50)\n",
        "plt.legend(prop={'size':30})\n",
        "plt.title('Precision', fontsize=50)\n",
        "\n",
        "plt.savefig('MetricComparison', dpi=300)\n",
        "plt.show()"
      ],
      "metadata": {
        "colab": {
          "base_uri": "https://localhost:8080/",
          "height": 831
        },
        "id": "10GYyuYoKAGh",
        "outputId": "9f93a01f-e14d-42f7-cbcf-482d1edc6fb7"
      },
      "execution_count": null,
      "outputs": [
        {
          "output_type": "display_data",
          "data": {
            "text/plain": [
              "<Figure size 1440x864 with 2 Axes>"
            ],
            "image/png": "[encoded data removed]"
          },
          "metadata": {
            "needs_background": "light"
          }
        }
      ]
    },
    {
      "cell_type": "code",
      "source": [
        ""
      ],
      "metadata": {
        "id": "pr3XZpaPY15n"
      },
      "execution_count": null,
      "outputs": []
    }
  ]
}